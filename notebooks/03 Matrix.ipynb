{
 "cells": [
  {
   "cell_type": "markdown",
   "metadata": {},
   "source": [
    "# Matrix\n",
    "\n",
    "Matrix is a rectangular 2D table with numbers. Usually denoted as $M\\in\\mathbb{R}^{N\\times M}$ where $N$ in the number of rows, and $M$ - number of columns.\n",
    "\n",
    "$A\\in\\mathbb{R}^{2\\times 3}; A = \\begin{bmatrix}\n",
    "a_{1,1} & a_{1,2} & a_{1,3} \\\\\n",
    "a_{2,1} & a_{2,2} & a_{2,3}\n",
    "\\end{bmatrix}$\n",
    "\n",
    "Matrix also can be:\n",
    "- added\n",
    "- multiplied by a number\n",
    "- there exist norms (e.g. Frobenius norm: $\\|A\\|_{\\text{F}}={\\sqrt {\\sum _{i=1}^{M}\\sum _{j=1}^{N}|a_{ij}|^{2}}}$\n",
    "\n",
    "In python the best way to work with matrices in `numpy.ndarray` or `numpy.matrix`."
   ]
  },
  {
   "cell_type": "code",
   "execution_count": 4,
   "metadata": {},
   "outputs": [
    {
     "name": "stdout",
     "output_type": "stream",
     "text": [
      "Matrix\n",
      " [[1. 2. 3.]\n",
      " [3. 2. 1.]\n",
      " [7. 7. 7.]]\n",
      "\n",
      "Type\n",
      " <class 'numpy.matrix'>\n",
      "\n",
      "Shape\n",
      " (3, 3)\n",
      "\n",
      "Elements\n",
      " 1.0 7.0\n",
      "\n",
      "Row\n",
      " [[3. 2. 1.]]\n",
      "\n",
      "Row as vector\n",
      " [[3.]\n",
      " [2.]\n",
      " [1.]]\n",
      "\n",
      "Column\n",
      " [[3.]\n",
      " [1.]\n",
      " [7.]]\n"
     ]
    }
   ],
   "source": [
    "import numpy as np\n",
    "\n",
    "mx = np.matrix([\n",
    "    [1, 2, 3], \n",
    "    [3, 2, 1], \n",
    "    [7, 7, 7.0], \n",
    "])\n",
    "print(\"Matrix\\n\", mx)\n",
    "print(\"\\nType\\n\", type(mx))\n",
    "print(\"\\nShape\\n\", mx.shape)\n",
    "print(\"\\nElements\\n\", mx[1, 2], mx[2, 1]) # 0-based indexing, comma-based addressing\n",
    "print(\"\\nRow\\n\", mx[1,:])     # row as matrix\n",
    "print(\"\\nRow as vector\\n\", mx[1,:].T)     # row as matrix transposed\n",
    "print(\"\\nColumn\\n\", mx[:, 2]) # column as matrix"
   ]
  },
  {
   "cell_type": "code",
   "execution_count": 3,
   "metadata": {},
   "outputs": [
    {
     "name": "stdout",
     "output_type": "stream",
     "text": [
      "\n",
      "Type\n",
      " <class 'numpy.ndarray'>\n",
      "\n",
      "Shape\n",
      " (2, 2)\n",
      "[[1.1 2. ]\n",
      " [3.  4. ]]\n",
      "2.0 3.0\n"
     ]
    }
   ],
   "source": [
    "arr = np.asarray([\n",
    "    [1.1, 2],\n",
    "    [3, 4]\n",
    "])\n",
    "print(\"\\nType\\n\", type(arr))\n",
    "print(\"\\nShape\\n\", arr.shape)\n",
    "print(arr)\n",
    "print(arr[0, 1], arr[1][0])  # 0-based indexing, both types of addressing"
   ]
  },
  {
   "cell_type": "markdown",
   "metadata": {},
   "source": [
    "## Matrix as vector collection\n",
    "\n",
    "Matrix is a collection of row or columns. We can easily intoduce matrix-vector multiplication based in vector multiplication.\n",
    "\n",
    "### by def\n",
    "\n",
    "Vector  is  a  matrix  of $\\huge \\mathbb{R}^{N\\times 1}$\n",
    "\n",
    "### thus\n",
    "**Dot product** of 2 vectors should be defined for this type of matrices.\n",
    "\n",
    "$\\vec{a} = A; \\vec{b} = B \\\\\n",
    "\\vec{a}\\cdot\\vec{b}=\\begin{bmatrix}a_1 \\\\ a_2 \\\\ .. \\\\ a_n\\end{bmatrix}\\cdot\\begin{bmatrix}b_1 \\\\ b_2 \\\\ .. \\\\ b_n\\end{bmatrix}$\n",
    "\n",
    "In matrices multiplication is defined for **row of left matrix** and **column of right matrix**. In matrix form this will be:\n",
    "\n",
    "$A^T\\times B=\\begin{bmatrix}a_1 \\\\ a_2 \\\\ .. \\\\ a_n\\end{bmatrix}^T\\times\\begin{bmatrix}b_1 \\\\ b_2 \\\\ .. \\\\ b_n\\end{bmatrix} = \n",
    "\\begin{bmatrix}a_1 & a_2 & .. & a_n\\end{bmatrix}\\times\\begin{bmatrix}b_1 \\\\ b_2 \\\\ .. \\\\ b_n\\end{bmatrix} = \\begin{bmatrix}\\vec{a}\\cdot\\vec{b}\\end{bmatrix}$\n",
    "\n",
    "And the **result will be the matrix again**.\n",
    "\n",
    "Let's merge this together:\n",
    "- we multiply row elements by column elements\n",
    "- we reuse dot product procedure for their multiplication\n",
    "- this number of columns in left matrix and rows in right one should match \n",
    "\n",
    "In vector case:\n",
    "\n",
    "$VECTMULT:\\mathbb{R}^{1\\times M}\\times\\mathbb{R}^{M\\times 1}\\rightarrow\\mathbb{R}^{1\\times 1}$\n",
    "\n",
    "In general, matrix multiplication is defined like this.\n",
    "\n",
    "$MULT:\\mathbb{R}^{K\\times M}\\times\\mathbb{R}^{M\\times N}\\rightarrow\\mathbb{R}^{K\\times N}$\n",
    "\n",
    "Look:\n",
    "\n",
    "$U\\times X=\\begin{bmatrix}\n",
    "                \\begin{bmatrix}u[1]_1 & u[1]_2 & .. & u[1]_M\\end{bmatrix} \\\\\n",
    "                \\begin{bmatrix}u[2]_1 & u[2]_2 & .. & u[2]_M\\end{bmatrix} \\\\\n",
    "                ... \\\\\n",
    "                \\begin{bmatrix}u[K]_1 & u[K]_2 & .. & u[K]_M\\end{bmatrix}\n",
    "            \\end{bmatrix}\n",
    "            \\times\n",
    "            \\begin{bmatrix}\n",
    "                \\begin{bmatrix}x[1]_1 \\\\ x[1]_2 \\\\ .. \\\\ x[1]_M\\end{bmatrix} &\n",
    "                \\begin{bmatrix}x[2]_1 \\\\ x[2]_2 \\\\ .. \\\\ x[2]_M\\end{bmatrix} &\n",
    "                ... &\n",
    "                \\begin{bmatrix}x[N]_1 \\\\ x[N]_2 \\\\ .. \\\\ x[N]_M\\end{bmatrix}\n",
    "            \\end{bmatrix}\n",
    "            =\n",
    "            \\begin{bmatrix}\n",
    "            \\vec{u[1]}\\cdot \\vec{x[1]} & ... & \\vec{u[1]}\\cdot \\vec{x[N]} \\\\\n",
    "            ... & \\vec{u[i]}\\cdot \\vec{x[j]} & ... \\\\\n",
    "            \\vec{u[K]}\\cdot \\vec{x[1]} & ... & \\vec{u[K]}\\cdot \\vec{x[N]} \\\\\n",
    "            \\end{bmatrix}\n",
    "            $\n",
    "            \n",
    "If $X$ is a *dataset* and $U$ is a set of linear combinations coefficients we can say that $U$ is **linear operatior (function)**. It can be applied to a single vector $U\\vec{x}$ and return a new vector, or applied to $N$ vectors, stored in $X$, and return $N$ vectors again."
   ]
  },
  {
   "cell_type": "markdown",
   "metadata": {},
   "source": [
    "## Solve with pen and paper\n",
    "\n",
    "$\\begin{bmatrix}\n",
    "1 & 2 & 1\n",
    "\\end{bmatrix} \\times \n",
    "\\begin{bmatrix}\n",
    "2 & 2 \\\\\n",
    "1 & 3 \\\\\n",
    "2 & -2\n",
    "\\end{bmatrix} = ?$\n",
    "\n",
    "\n",
    "$\\begin{bmatrix}\n",
    "1 & 2 & 1 \\\\\n",
    "0 & 0 & 1\n",
    "\\end{bmatrix} \\times \n",
    "\\begin{bmatrix}\n",
    "2 \\\\\n",
    "1 \\\\\n",
    "2\n",
    "\\end{bmatrix} = ?$\n",
    "\n",
    "$\\begin{bmatrix}\n",
    "1 & 2 & 1 \\\\\n",
    "0 & 0 & -1\n",
    "\\end{bmatrix} \\times \n",
    "\\begin{bmatrix}\n",
    "2 & 2 & 1\\\\\n",
    "1 & 3 & 4\\\\\n",
    "2 & -2 & 6\n",
    "\\end{bmatrix} = ?$"
   ]
  },
  {
   "cell_type": "markdown",
   "metadata": {},
   "source": [
    "## TODO\n",
    "implement matrix multiplication. Write your code from scratch, or reuse dot product implementation. Feel free to benefit from transpose operation: `A.T`"
   ]
  },
  {
   "cell_type": "code",
   "execution_count": 28,
   "metadata": {},
   "outputs": [],
   "source": [
    "import numpy as np\n",
    "# TODO: write a matrix multiplication\n",
    "\n",
    "U = np.matrix([[1, 2, 3], [3, 4, 5], [4, 5, 6], [6, 7, 8]])\n",
    "X = np.matrix([[1, 2, 3], [3, 4, 5]]).T\n",
    "\n",
    "def mult(A, B):\n",
    "    # write your code here\n",
    "    pass\n",
    "\n",
    "mult(U, X)"
   ]
  },
  {
   "cell_type": "markdown",
   "metadata": {},
   "source": [
    "## On inverse and identity\n",
    "\n",
    "$\\huge AI = A$\n",
    "\n",
    "$\\huge IA = A$"
   ]
  },
  {
   "cell_type": "code",
   "execution_count": 43,
   "metadata": {},
   "outputs": [
    {
     "name": "stdout",
     "output_type": "stream",
     "text": [
      "[[1. 0. 0. 0.]\n",
      " [0. 1. 0. 0.]\n",
      " [0. 0. 1. 0.]\n",
      " [0. 0. 0. 1.]]\n"
     ]
    }
   ],
   "source": [
    "print(np.identity(4))"
   ]
  },
  {
   "cell_type": "code",
   "execution_count": 50,
   "metadata": {},
   "outputs": [
    {
     "name": "stdout",
     "output_type": "stream",
     "text": [
      "A\n",
      "[[1. 4.]\n",
      " [2. 3.]\n",
      " [3. 2.]\n",
      " [4. 1.]]\n",
      "ID-4\n",
      "[[1. 0. 0. 0.]\n",
      " [0. 1. 0. 0.]\n",
      " [0. 0. 1. 0.]\n",
      " [0. 0. 0. 1.]]\n",
      "ID-2\n",
      "[[1. 0.]\n",
      " [0. 1.]]\n",
      "IA\n",
      "[[1. 4.]\n",
      " [2. 3.]\n",
      " [3. 2.]\n",
      " [4. 1.]]\n",
      "AI\n",
      "[[1. 4.]\n",
      " [2. 3.]\n",
      " [3. 2.]\n",
      " [4. 1.]]\n"
     ]
    }
   ],
   "source": [
    "A = np.matrix([[1., 2, 3, 4], [4, 3, 2, 1]]).T\n",
    "print(\"A\")\n",
    "print(A)\n",
    "print(\"ID-4\")\n",
    "print(np.identity(4))\n",
    "print(\"ID-2\")\n",
    "print(np.identity(2))\n",
    "\n",
    "print(\"IA\")\n",
    "print(np.identity(4) @ A)\n",
    "\n",
    "print(\"AI\")\n",
    "print(A @ np.identity(2))"
   ]
  },
  {
   "cell_type": "markdown",
   "metadata": {},
   "source": [
    "## Inverse matrix\n",
    "\n",
    "- Exists for square matrces only\n",
    "- For linearly independent (singular) matrices only (see further)\n",
    "\n",
    "### def\n",
    "\n",
    "$\\huge A^{-1}A = I$\n",
    "\n",
    "$\\huge AA^{-1} = I$\n"
   ]
  },
  {
   "cell_type": "markdown",
   "metadata": {},
   "source": [
    "## (*) On linear dependency and determinant\n",
    "\n",
    "$det{A} = \\Delta{A}$ - determinant, linear dependency indicator"
   ]
  },
  {
   "cell_type": "code",
   "execution_count": 63,
   "metadata": {},
   "outputs": [
    {
     "name": "stdout",
     "output_type": "stream",
     "text": [
      "[[1. 0.]\n",
      " [0. 1.]]\n",
      "\n",
      "1.0\n",
      "\n",
      "[[1. 0.]\n",
      " [0. 1.]]\n",
      "\n",
      "[[0. 0.]\n",
      " [0. 0.]]\n",
      "-------------\n",
      "[[-1.  0.]\n",
      " [ 0.  1.]]\n",
      "-1.0\n",
      "\n",
      "[[-1. -0.]\n",
      " [ 0.  1.]]\n",
      "\n",
      "[[0. 0.]\n",
      " [0. 0.]]\n",
      "-------------\n",
      "[[-1.  0.  2.]\n",
      " [ 0.  1.  0.]\n",
      " [-1.  1.  2.]]\n",
      "0.0\n",
      "\n",
      "[[-0.13  0.07 -0.07]\n",
      " [-0.33  0.67  0.33]\n",
      " [ 0.27 -0.13  0.13]]\n",
      "\n",
      "[[-0.8  0.  -0.4]\n",
      " [ 0.   0.   0. ]\n",
      " [-0.4  0.  -0.2]]\n"
     ]
    }
   ],
   "source": [
    "np.set_printoptions(2, suppress=True)\n",
    "A = np.matrix([[1.0, 0], [0, 1]]).T\n",
    "print(A)\n",
    "print()\n",
    "print(np.linalg.det(A))\n",
    "print()\n",
    "print(A.I)\n",
    "print()\n",
    "print(A.I * A - np.identity(2))\n",
    "print(\"-------------\")\n",
    "A = np.matrix([[-1.0, 0], [0, 1]]).T\n",
    "print(A)\n",
    "print(np.linalg.det(A))\n",
    "print()\n",
    "print(A.I)\n",
    "print()\n",
    "print(A.I * A - np.identity(2))\n",
    "print(\"-------------\")\n",
    "A = np.matrix([[-1.0, 0, -1], [0, 1, 1], [2, 0, 2]]).T\n",
    "print(A)\n",
    "print(np.linalg.det(A))\n",
    "print()\n",
    "print(np.linalg.pinv(A))\n",
    "print()\n",
    "print(np.linalg.pinv(A) * A - np.identity(3))"
   ]
  },
  {
   "cell_type": "markdown",
   "metadata": {},
   "source": [
    "## Notes: matrix multiplication for RMSE\n",
    "\n",
    "Remember RMSE definition? This is a rooted-mean-square defiation of observations from reference data.\n",
    "\n",
    "Let $P$ be a matrix of predictions, and $O$ - a matrix of observations. Thus, deviation vectors are computed as $D = (P - O)$.\n",
    "\n",
    "Squared error can be computed as $\\|d_i\\|_2^2 = d_i\\cdot d_i$ or, in matrix form, $d_i^Td_i$.\n",
    "\n",
    "Thus, in matrix $(P-O)^T(P-O)$ diagonal elements are errors. Sum of these elements is called **trace** of a matrix: $tr A = \\sum_i a_{i,i}$\n",
    "\n",
    "So, rmse can also be written as:\n",
    "\n",
    "$RMSE = \\sqrt{\\frac{tr (P-O)^T(P-O)}{N}}$\n"
   ]
  },
  {
   "cell_type": "code",
   "execution_count": 34,
   "metadata": {},
   "outputs": [
    {
     "name": "stdout",
     "output_type": "stream",
     "text": [
      "0.0\n",
      "0.08660254037844381\n"
     ]
    }
   ],
   "source": [
    "P = np.matrix([[1.0, 2, 3], [2, 3, 4], [3, 4, 5], [4, 5, 6]]).T\n",
    "O = np.matrix([[1.1, 2, 3], [2, 3.1, 4], [3, 4, 5.1], [4, 5, 6]]).T\n",
    "\n",
    "\n",
    "def rmse(A, B):\n",
    "    return (((A-B).T @ (A-B)).trace() / A.shape[1])[0, 0] ** .5\n",
    "\n",
    "print(rmse(P, P))\n",
    "print(rmse(P, O))"
   ]
  },
  {
   "cell_type": "markdown",
   "metadata": {},
   "source": [
    "# Solving problems with LA #\n",
    "A lot of problems in LA are stated in a form of\n",
    "\n",
    "$\\huge A\\vec{x}=\\vec{b}$\n",
    "\n",
    "or \n",
    "\n",
    "$\\huge AX=B$\n",
    "\n",
    "Statement falls into 3 types:\n",
    "1. Forward problem. We know the data $\\vec{x}$ or $X$ and know the operation $A$. $B$-?\n",
    "2. Finding variables. We know the function $A$ and know the observations $\\vec{b}$ of $B$. $X$-?\n",
    "3. Inverse problem. We know input $X$ and output $B$. What was the function?\n",
    "\n",
    "Linear algebra gives long and different answers for these problems."
   ]
  },
  {
   "cell_type": "markdown",
   "metadata": {},
   "source": [
    "## Forward\n",
    "Obvously $B = AX$"
   ]
  },
  {
   "cell_type": "code",
   "execution_count": 8,
   "metadata": {},
   "outputs": [
    {
     "name": "stdout",
     "output_type": "stream",
     "text": [
      "[[1.  1.  0.1]\n",
      " [1.  0.5 0.1]]\n",
      "\n"
     ]
    },
    {
     "data": {
      "image/png": "[encoded data removed]",
      "text/plain": [
       "<Figure size 360x360 with 1 Axes>"
      ]
     },
     "metadata": {
      "needs_background": "light"
     },
     "output_type": "display_data"
    }
   ],
   "source": [
    "import math\n",
    "import matplotlib.pyplot as plt\n",
    "\n",
    "\n",
    "points = np.matrix([[1, 1], [1, .5], [0.1, 0.1]]).T\n",
    "print(points)\n",
    "print()\n",
    "\n",
    "def Rot(θ):\n",
    "    return np.matrix([\n",
    "        [math.cos(θ), -math.sin(θ)], \n",
    "        [math.sin(θ), math.cos(θ)]\n",
    "    ])\n",
    "\n",
    "\n",
    "rotated = Rot(np.pi / 8) @ points\n",
    "rotated2 = Rot(np.pi / 8) @ rotated\n",
    "\n",
    "plt.figure(figsize=(5,5))\n",
    "plt.plot(points[0].A1, points[1].A1)\n",
    "plt.plot(rotated[0].A1, rotated[1].A1)\n",
    "plt.plot(rotated2[0].A1, rotated2[1].A1)\n",
    "plt.show()"
   ]
  },
  {
   "cell_type": "markdown",
   "metadata": {},
   "source": [
    "## Finding variable\n",
    "\n",
    "$Ax = b$\n",
    "\n",
    "$A^{-1}Ax = A^{-1}b$\n",
    "\n",
    "$Ix = A^{-1}b$\n",
    "\n",
    "$x = A^{-1}b$\n"
   ]
  },
  {
   "cell_type": "markdown",
   "metadata": {},
   "source": [
    "### TODO \n",
    "find what was the origin of the points, if we know that we did rotation for 60 degrees?"
   ]
  },
  {
   "cell_type": "code",
   "execution_count": 9,
   "metadata": {},
   "outputs": [
    {
     "data": {
      "image/png": "[encoded data removed]",
      "text/plain": [
       "<Figure size 360x360 with 1 Axes>"
      ]
     },
     "metadata": {
      "needs_background": "light"
     },
     "output_type": "display_data"
    }
   ],
   "source": [
    "points = np.matrix([[1, 1], [1, .5], [0.1, 0.1]]).T\n",
    "deg = np.pi / 3.\n",
    "\n",
    "## TODO replace this\n",
    "origin = np.matrix(np.zeros((3, 2)))\n",
    "\n",
    "\n",
    "plt.figure(figsize=(5,5))\n",
    "plt.plot(points[0].A1, points[1].A1)\n",
    "plt.plot(origin[0].A1, origin[1].A1)\n",
    "\n",
    "plt.show()"
   ]
  },
  {
   "cell_type": "markdown",
   "metadata": {},
   "source": [
    "## Inverse problem A-?\n",
    "\n",
    "### Simple case\n",
    "\n",
    "$AX = B$\n",
    "\n",
    "$AXX^{-1}=BX^{-1}$\n",
    "\n",
    "$A=BX^{-1}$\n",
    "\n",
    "### but what is dimensions don't match?\n",
    "\n",
    "[Ordinary least squares](https://en.wikipedia.org/wiki/Ordinary_least_squares) method.\n",
    "\n",
    "$AX \\approx B$ or $X^TA^T \\approx B^T \\Rightarrow YP=V; P-?$\n",
    "\n",
    "$P - YP \\approx 0$\n",
    "\n",
    "$\\|V - YP\\| \\rightarrow 0$\n",
    "\n",
    "$\\|V - YP\\|' = 0$\n",
    "\n",
    "$A^T=P = (Y^TY)^{-1}Y^TV=(XX^T)^{-1}XB^T$\n",
    "\n"
   ]
  },
  {
   "cell_type": "code",
   "execution_count": 109,
   "metadata": {},
   "outputs": [
    {
     "data": {
      "text/plain": [
       "matrix([[ 0., -0., -0.],\n",
       "        [ 0., -0., -0.]])"
      ]
     },
     "execution_count": 109,
     "metadata": {},
     "output_type": "execute_result"
    }
   ],
   "source": [
    "points0 = np.matrix([[1, 1], [1, .5], [0.1, 0.1]]).T\n",
    "points1 = np.matrix([[0.54, 0.73, 0.05], [1.31, 0.84, 0.13]])\n",
    "\n",
    "# TODO find A\n",
    "\n",
    "points1 - A * points0"
   ]
  },
  {
   "cell_type": "markdown",
   "metadata": {},
   "source": [
    "# Eigen-something\n",
    "\n",
    "$\\huge A\\vec{x}=\\lambda\\vec{x}$\n",
    "\n",
    "$\\lambda$'s (eigenvalues) and $\\vec{x}$'s (eigenvectors, non-zero) are variables we need to find. They describe a system of vectors which is not affected by our operator $A$. Such a system is very useful for different appications. In ML in helps to cluster the data, find minimal cut in a graph, reduce dimensions of data and many more.\n",
    "\n",
    "$A \\vec{x} - \\lambda I\\vec{x} = 0$\n",
    "\n",
    "$(A - \\lambda I)\\vec{x} = 0$\n",
    "\n",
    "Non-zero vector $\\vec{x}$ is converted into 0, this can only happen for singular matrix $(A - \\lambda I)$. \n",
    "\n",
    "Thus, $\\Delta(A - \\lambda I)=0$ - this is called *charactersitic equation* to find eigenvalues.\n",
    "\n",
    "Solution can ofter involve complex numbers."
   ]
  },
  {
   "cell_type": "code",
   "execution_count": 34,
   "metadata": {},
   "outputs": [
    {
     "data": {
      "image/png": "[encoded data removed]",
      "text/plain": [
       "<Figure size 360x360 with 1 Axes>"
      ]
     },
     "metadata": {
      "needs_background": "light"
     },
     "output_type": "display_data"
    },
    {
     "name": "stdout",
     "output_type": "stream",
     "text": [
      "Scale eigenvectors\n",
      " [[1.         0.31622777]\n",
      " [0.         0.9486833 ]]\n",
      "Eigenvalues [0.8 1.1]\n"
     ]
    }
   ],
   "source": [
    "Scale = np.matrix([\n",
    "    [0.8, 0.1],\n",
    "    [0., 1.1]\n",
    "])\n",
    "\n",
    "points = np.matrix([\n",
    "    [0.316, 0.948], [1.3, 0],\n",
    "    [1, 1], [-1, -1.5], [1., -0.5], [-0.4, 0.9]]).T\n",
    "\n",
    "twisted = Scale @ points\n",
    "\n",
    "plt.figure(figsize=(5,5))\n",
    "plt.grid()\n",
    "plt.scatter(points[0].A1, points[1].A1)\n",
    "plt.scatter(twisted[0].A1, twisted[1].A1)\n",
    "plt.scatter(0, 0, c='black', marker='+')\n",
    "plt.show()\n",
    "\n",
    "evals, evecs = np.linalg.eig(Scale)\n",
    "print(\"Scale eigenvectors\\n\", evecs)\n",
    "print(\"Eigenvalues\", evals)"
   ]
  },
  {
   "cell_type": "markdown",
   "metadata": {},
   "source": [
    "NB:\n",
    "    \n",
    "$\\huge \\prod_{i=1}^{n}\\lambda_i=\\Delta{A}$"
   ]
  }
 ],
 "metadata": {
  "kernelspec": {
   "display_name": "Python 3",
   "language": "python",
   "name": "python3"
  },
  "language_info": {
   "codemirror_mode": {
    "name": "ipython",
    "version": 3
   },
   "file_extension": ".py",
   "mimetype": "text/x-python",
   "name": "python",
   "nbconvert_exporter": "python",
   "pygments_lexer": "ipython3",
   "version": "3.7.4"
  }
 },
 "nbformat": 4,
 "nbformat_minor": 4
}
