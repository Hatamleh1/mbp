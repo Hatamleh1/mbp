{
 "cells": [
  {
   "cell_type": "markdown",
   "metadata": {},
   "source": [
    "# Matrix\n",
    "\n",
    "Matrix is a rectangular 2D table with numbers. Usually denoted as $M\\in\\mathbb{R}^{N\\times M}$ where $N$ in the number of rows, and $M$ - number of columns.\n",
    "\n",
    "$A\\in\\mathbb{R}^{2\\times 3}; A = \\begin{bmatrix}\n",
    "a_{1,1} & a_{1,2} & a_{1,3} \\\\\n",
    "a_{2,1} & a_{2,2} & a_{2,3}\n",
    "\\end{bmatrix}$\n",
    "\n",
    "Matrix also can be:\n",
    "- added\n",
    "- multiplied by a number\n",
    "- there exist norms (e.g. Frobenius norm: $\\|A\\|_{\\text{F}}={\\sqrt {\\sum _{i=1}^{M}\\sum _{j=1}^{N}|a_{ij}|^{2}}}$\n",
    "\n",
    "In python the best way to work with matrices in `numpy.ndarray` or `numpy.matrix`."
   ]
  },
  {
   "cell_type": "markdown",
   "metadata": {},
   "source": [
    "## Matrix as vector collection\n",
    "\n",
    "Matrix is a collection of row or columns. We can easily intoduce matrix-vector multiplication.\n",
    "\n",
    "### by def\n",
    "\n",
    "Vector  is  a  matrix  of $\\huge \\mathbb{R}^{N\\times 1}$\n",
    "\n",
    "### thus\n",
    "Dot product of vectors should be defined for this type of matrices.\n",
    "\n",
    "$\\vec{a} = A; \\vec{b} = B \\\\\n",
    "\\vec{a}\\cdot\\vec{b}=\\begin{bmatrix}a_1 \\\\ a_2 \\\\ .. \\\\ a_n\\end{bmatrix}\\cdot\\begin{bmatrix}b_1 \\\\ b_2 \\\\ .. \\\\ b_n\\end{bmatrix}$\n",
    "\n",
    "In matrices multiplication is defined for **row of left matrix** and **column of right matrix**. In matrix form this will be:\n",
    "\n",
    "$A^T\\times B=\\begin{bmatrix}a_1 \\\\ a_2 \\\\ .. \\\\ a_n\\end{bmatrix}^T\\times\\begin{bmatrix}b_1 \\\\ b_2 \\\\ .. \\\\ b_n\\end{bmatrix} = \n",
    "\\begin{bmatrix}a_1 & a_2 & .. & a_n\\end{bmatrix}\\times\\begin{bmatrix}b_1 \\\\ b_2 \\\\ .. \\\\ b_n\\end{bmatrix} = \\begin{bmatrix}\\vec{a}\\cdot\\vec{b}\\end{bmatrix}$\n",
    "\n",
    "And the result will be the matrix again.\n",
    "\n",
    "Let's merge this together:\n",
    "- we multiply row elements by column elements\n",
    "- we reuse dot product procedure for their multiplication\n",
    "- this number of columns in left matrix and rows in right one should match:  \n",
    "\n",
    "In vector case:\n",
    "$VECTMULT:\\mathbb{R}^{1\\times M}\\times\\mathbb{R}^{M\\times 1}\\rightarrow\\mathbb{R}^{1\\times 1}$\n",
    "\n",
    "In general, matrix multiplication is defined like this.\n",
    "\n",
    "$MULT:\\mathbb{R}^{K\\times M}\\times\\mathbb{R}^{M\\times N}\\rightarrow\\mathbb{R}^{K\\times N}$\n",
    "\n",
    "Look:\n",
    "\n",
    "$U\\times X=\\begin{bmatrix}\n",
    "                \\begin{bmatrix}u[1]_1 & u[1]_2 & .. & u[1]_M\\end{bmatrix} \\\\\n",
    "                \\begin{bmatrix}u[2]_1 & u[2]_2 & .. & u[2]_M\\end{bmatrix} \\\\\n",
    "                ... \\\\\n",
    "                \\begin{bmatrix}u[K]_1 & u[K]_2 & .. & u[K]_M\\end{bmatrix}\n",
    "            \\end{bmatrix}\n",
    "            \\times\n",
    "            \\begin{bmatrix}\n",
    "                \\begin{bmatrix}x[1]_1 \\\\ x[1]_2 \\\\ .. \\\\ x[1]_M\\end{bmatrix} &\n",
    "                \\begin{bmatrix}x[2]_1 \\\\ x[2]_2 \\\\ .. \\\\ x[2]_M\\end{bmatrix} &\n",
    "                ... &\n",
    "                \\begin{bmatrix}x[N]_1 \\\\ x[N]_2 \\\\ .. \\\\ x[N]_M\\end{bmatrix}\n",
    "            \\end{bmatrix}\n",
    "            =\n",
    "            \\begin{bmatrix}\n",
    "            \\vec{u[1]}\\cdot \\vec{x[1]} & ... & \\vec{u[1]}\\cdot \\vec{x[N]} \\\\\n",
    "            ... & \\vec{u[i]}\\cdot \\vec{x[j]} & ... \\\\\n",
    "            \\vec{u[K]}\\cdot \\vec{x[1]} & ... & \\vec{u[K]}\\cdot \\vec{x[N]} \\\\\n",
    "            \\end{bmatrix}\n",
    "            $\n",
    "            \n",
    "If $X$ is a *dataset* and $U$ is a set of linear combinations coefficients we can say that $U$ is **linear operatior (function)**. It can be applied to a single vector $U\\vec{x}$ of to a bunch of those, stored in $X$."
   ]
  },
  {
   "cell_type": "code",
   "execution_count": 7,
   "metadata": {},
   "outputs": [],
   "source": [
    "import numpy as np\n",
    "# TODO: write a matrix multiplication\n",
    "\n",
    "U = np.matrix([[1, 2, 3], [3, 4, 5], [4, 5, 6], [6, 7, 8]])\n",
    "X = np.matrix([[1, 2, 3], [3, 4, 5]]).T\n",
    "\n",
    "def mult(A, B):\n",
    "    # write your code here\n",
    "    pass\n",
    "\n",
    "\n",
    "mult(U, X)"
   ]
  },
  {
   "cell_type": "code",
   "execution_count": null,
   "metadata": {},
   "outputs": [],
   "source": []
  },
  {
   "cell_type": "code",
   "execution_count": null,
   "metadata": {},
   "outputs": [],
   "source": []
  },
  {
   "cell_type": "code",
   "execution_count": null,
   "metadata": {},
   "outputs": [],
   "source": []
  },
  {
   "cell_type": "code",
   "execution_count": null,
   "metadata": {},
   "outputs": [],
   "source": []
  },
  {
   "cell_type": "code",
   "execution_count": null,
   "metadata": {},
   "outputs": [],
   "source": []
  },
  {
   "cell_type": "markdown",
   "metadata": {},
   "source": [
    "https://docs.google.com/document/d/1z65VsK6_hEhIh24fRYyLq3utXP2LiSaA5fi9NntZngY/edit"
   ]
  },
  {
   "cell_type": "markdown",
   "metadata": {},
   "source": [
    "Матрица - прямоугольная таблица. Опять же, не просто таблица, а в каком-то пространстве с какими-то обозначениями. Например, у матриц тоже есть нормы (Фробениусова), умножение на число, сложение, степени, обратные операции, опорные элементы (0 и 1).\n",
    "\n",
    " - Фробениусова норма для матрицы [слайды].\n",
    "\n",
    "Матрица как коллекция векторов. Каждая строка или столбец - это вектор (решается транспонированием AT). Например, матрица - это выписанная функция. Тогда норма - совокупная характеристика объектов. А ещё есть определитель (он не норма, т.к. может быть отрицательным), но он тоже обозначает выраженность.\n",
    "\n",
    "Вектор - это столбец, матрица N*1. Например, матрица на вектор - вектор, по сути пачка скалярных произведений.\n",
    "Как умножить матрицу на вектор. - N*M x M*1 = N*1\n",
    "\n",
    "Второе, конечно же, это совокупность линейных преобразований. Т.е. Матрица - это оператор, переводящий объекты из одной системы координат в другую или в ТУ ЖЕ.\n",
    "Оказывается, чем больше матрица, тем больше интересных классов задач можно решить. Поворачивают, сжимают, переносят, эволюционируют. Определитель - характеристика невырожденности. Ранг - характеристика понижения размерности.\n",
    "Матрицу умножают на вектор и получают вектор.\n",
    "Задачи:\n",
    "Ax = b, b-? = Прямая задача. Ax = b, x-? Обратная Ax = b, A?\n",
    "Совокупность матриц - уже нейронка. Матрица на матрицу - применение функции к совокупности объектов.\n",
    "Ошибка - RMSE.\n",
    "Ax = b. (b - Ax) - вектор отклонение. |b - Ax| -> RMSE\n",
    "AX = B. (B - AX) - матрица отклонений ||B - AX|| - фробениусова\n",
    "\n",
    "Интерактив. Построим матрицу поворота, обратную матрицу. Проверим, что они обратные - докажите на доске и в коде [CODE TEST]\n",
    "\n",
    "\n",
    "* Эта матрица называется Ортогональной  специальной (det = 1).\n",
    "Единичная матрица. Обратная матрица - обратная операция."
   ]
  }
 ],
 "metadata": {
  "kernelspec": {
   "display_name": "Python 3",
   "language": "python",
   "name": "python3"
  },
  "language_info": {
   "codemirror_mode": {
    "name": "ipython",
    "version": 3
   },
   "file_extension": ".py",
   "mimetype": "text/x-python",
   "name": "python",
   "nbconvert_exporter": "python",
   "pygments_lexer": "ipython3",
   "version": "3.7.4"
  }
 },
 "nbformat": 4,
 "nbformat_minor": 4
}
