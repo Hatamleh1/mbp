{
 "cells": [
  {
   "cell_type": "markdown",
   "metadata": {},
   "source": [
    "https://stackoverflow.com/questions/19716315/how-to-create-a-fixed-size-unsigned-integer-in-python\n",
    "https://docs.google.com/document/d/1bDwyXvjsseviSKq8sJo5ObEen02XuX4WDnOoGX3W18w/edit#\n",
    "\n",
    "Представление числа. Целые, длинные, с плавающей запятой. Особенности использования в приложении к точности и скорости вычислений.\n",
    "Варианты представления чисел.\n",
    "Арифметическое переполнение.\n",
    "Неравномерность действительных чисел.\n",
    "Особенности сложения.\n"
   ]
  },
  {
   "cell_type": "markdown",
   "metadata": {},
   "source": [
    "Signed integers\n",
    "Sign-magnitude (прямой код)\n",
    "1001 1000\n",
    "The sign \"1\" means negative The magnitude is 24 (in 7-bit binary)\n",
    "И два нуля :)\n",
    "\n",
    "One’s Complement or 1’s Complement (обратный код) as it is also termed, is another method which we can use to represent negative binary numbers in a signed binary number system. In one’s complement, positive numbers (also known as non-complements) remain unchanged as before with the sign-magnitude numbers. to find the one’s complement of a binary number N as all we need to simply change the 1’s to 0’s and the 0’s to 1’s to give us a -N equivalent. - no double 0, -2^(N-1)..2(N-1)-1\n",
    "2’s complement (дополнительный код) \n",
    "Again, the most significant bit (msb) is the sign bit, with value of 0 representing positive integers and 1 representing negative integers.\n",
    "The remaining n-1 bits represents the magnitude of the integer, as follows:\n",
    "for positive integers, the absolute value of the integer is equal to \"the magnitude of the (n-1)-bit binary pattern\".\n",
    "for negative integers, the absolute value of the integer is equal to \"the magnitude of the complement of the (n-1)-bit binary pattern plus one\" (hence called 2's complement). - чтобы получить модуль из уже записанного числа, нужно обратить биты и прибавить один. И наоборот. Чтобы для модуля получить запись, нужно вычесть 1 и обратить.\n",
    "Интерактив\n",
    "Из модулю запись:\n",
    "-13: ~(0 000 1101 - 1) -> ~(0 000 1100) -> (1 111 0011).\n",
    "Проверка:\n",
    "0 000 1101 + \n",
    "1 111 0011 = 0 (с переполнением)\n",
    "- 128:  ~(1000 0000 - 1) = ~(0111 1111) = 1000 0000.\n",
    "Проверка:\n",
    "1 000 0000 - \n",
    "0 000 0001 = 0 111 111 (с переполнением  127)\n",
    "Из записи число\n",
    "0 100 0001: + 100 0001 = 65 \n",
    "1 000 0001 :  ~(000 0001) +  1 => (111 1110) + 1 = 127. Hence, -127\n"
   ]
  },
  {
   "cell_type": "markdown",
   "metadata": {},
   "source": [
    "Числа с плавающей запятой (точкой)\n",
    "The most significant bit is the sign bit (S), with 0 for positive numbers and 1 for negative numbers.\n",
    "The following 8 bits represent exponent (E).\n",
    "The remaining 23 bits represents fraction (F).\n",
    "1 1000 0001 011 0000 0000 0000 0000 0000, with:\n",
    "S = 1\n",
    "E = 1000 0001\n",
    "F = 011 0000 0000 0000 0000 0000\n",
    "In the normalized form, the actual fraction F is normalized with an implicit leading 1 in the form of 1.F\n",
    "1.011 0000 0000 0000 0000 0000 = 1 + 1×2^-2 + 1×2^-3 = 1.375.\n",
    "S=1, this is a negative number, i.e., -1.375\n",
    "In normalized form, the actual exponent is E-127 (-1024 for double). Actual exponent of -127 to 128\n",
    "E-127 = 1000 00012 - 12710 = 129-127=2.  ⇒ -1.375×2^2=-5.5\n",
    "Normalized form has a serious problem, with an implicit leading 1 for the fraction, it cannot represent the number zero.\n",
    "Согласно стандарту, если порядок равен своему минимальному значению (все его биты — нули, а истинное значение порядка равно его сдвигу) и все биты мантиссы равны нулю, то это  ±0. Если же мантисса не равна нулю, то это число с порядком, на единицу большим минимального (все биты порядка, кроме младшего — нули) и данной мантиссой, целая часть которой считается равной нулю, а не единице. Ввиду сложности денормализованные числа крайне редко реализуют на аппаратном уровне - вместо этого используются программные реализации, работающие значительно медленнее.\n",
    "Иногда они просто игнорируются. При этом используются два простых механизма, получивших название Flush-to-zero (FTZ) и Denormals-are-zero (DAZ).\n",
    "В версии стандарта IEEE 754-2008 денормализованные числа (denormal или denormalized numbers) были переименованы в subnormal numbers, то есть в числа, меньшие \"нормальных\"\n",
    "For E=0, the numbers are in the de-normalized form. An implicit leading 0 (instead of 1) is used for the fraction; and the actual exponent is always -126. Hence, the number zero can be represented with E=0 and F=0 (because 0.0×2^-126=0).\n",
    "Положительный нуль +0 и отрицательный нуль −0. число считается нулём, если все его биты, кроме знакового, равны нулю. При этом в зависимости от значения бита знака ноль может быть как положительным, так и отрицательным.\n",
    "We can also represent very small positive and negative numbers in de-normalized form with E=0. For example, if S=1, E=0, and F=011 0000 0000 0000 0000 0000. The actual fraction is \n",
    "0.011...2 = 1×2^(-2)+1×2^(-3)=0.375\n",
    "Since S=1, it is a negative number. With E=0, the actual exponent is -126. Hence the number is \n",
    "-0.375×2^(-126) = -4.4×10^(-39)\n",
    "which is an extremely small negative number (close to zero).\n"
   ]
  }
 ],
 "metadata": {
  "kernelspec": {
   "display_name": "Python 3",
   "language": "python",
   "name": "python3"
  },
  "language_info": {
   "codemirror_mode": {
    "name": "ipython",
    "version": 3
   },
   "file_extension": ".py",
   "mimetype": "text/x-python",
   "name": "python",
   "nbconvert_exporter": "python",
   "pygments_lexer": "ipython3",
   "version": "3.7.4"
  }
 },
 "nbformat": 4,
 "nbformat_minor": 4
}
