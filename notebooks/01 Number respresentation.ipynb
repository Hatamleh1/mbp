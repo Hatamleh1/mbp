{
 "cells": [
  {
   "cell_type": "markdown",
   "metadata": {},
   "source": [
    "# Integer numbers\n",
    "$x\\in\\mathbb{Z}$\n",
    "## Python disclaimer\n",
    "Originally computers we designed to solve computational tasks (over numbers). CPU Architectures (e.g. x64) encount the fact that operations over $\\mathbb{Z}$ and $\\mathbb{R}$ should be predictibly fast: they [fix number representation length](https://en.wikipedia.org/wiki/Processor_register#Size), sacrifising precision or edge cases.\n",
    "\n",
    "Most programming languages reuse CPU number representation, defined in [standards](https://en.wikipedia.org/wiki/IEEE_754-2008_revision): `short, int, long, float/real, double` in majority of languages are binary interchangable.\n",
    "\n",
    "Python is following this strategy for $\\mathbb{R}$ (`float`) data, but disrespects for $\\mathbb{Z}$ (`int`)."
   ]
  },
  {
   "cell_type": "code",
   "execution_count": 20,
   "metadata": {},
   "outputs": [
    {
     "name": "stdout",
     "output_type": "stream",
     "text": [
      "<class 'int'>\t x ~ 64 B; y ~ 28 B\n",
      "<class 'float'>\t a ~ 24 B; b ~ 24 B\n"
     ]
    }
   ],
   "source": [
    "import sys\n",
    "x = 10000000000000000000000000000000000000000000000000000000000000000000000000000000000\n",
    "y = 20\n",
    "a = 20.\n",
    "b = 0.000000000000000000000000000000000000000000000000000000000000000000000000000000001\n",
    "print(f'{type(x)}\\t x ~ {sys.getsizeof(x)} B; y ~ {sys.getsizeof(y)} B')\n",
    "print(f'{type(a)}\\t a ~ {sys.getsizeof(a)} B; b ~ {sys.getsizeof(b)} B')"
   ]
  },
  {
   "cell_type": "markdown",
   "metadata": {},
   "source": [
    "This is how this difference can be observed"
   ]
  },
  {
   "cell_type": "code",
   "execution_count": 24,
   "metadata": {},
   "outputs": [
    {
     "name": "stdout",
     "output_type": "stream",
     "text": [
      "x^4 = 10000000000000000000000000000000000000000000000000000000000000000000000000000000000000000000000000000000000000000000000000000000000000000000000000000000000000000000000000000000000000000000000000000000000000000000000000000000000000000000000000000000000000000000000000000000000000000000000000000000000000000000000000000000000000000\n",
      "b^4 = 0.0 True\n"
     ]
    }
   ],
   "source": [
    "print(\"x^4 =\", x**4)\n",
    "print(\"b^4 =\", b**4, b**4 == 0)"
   ]
  },
  {
   "cell_type": "markdown",
   "metadata": {},
   "source": [
    "To make python work as other languages we will use [native types](https://stackoverflow.com/questions/19716315/how-to-create-a-fixed-size-unsigned-integer-in-python)."
   ]
  },
  {
   "cell_type": "code",
   "execution_count": 72,
   "metadata": {},
   "outputs": [],
   "source": [
    "from ctypes import c_char, c_byte, c_ushort, c_int16, c_uint32, c_int32, c_float\n",
    "\n",
    "i = c_int32(2000000000)\n",
    "f = c_float()\n",
    "f.value = .4"
   ]
  },
  {
   "cell_type": "markdown",
   "metadata": {},
   "source": [
    "## Signed integer numbers\n",
    "\n",
    "Binary:\n",
    "\n",
    "47<sub>10</sub> = \n",
    "    **1** * 2<sup>5</sup>\n",
    "    + 0 * 2<sup>4</sup>\n",
    "    + **1** * 2<sup>3</sup>\n",
    "    + **1** * 2<sup>2</sup>\n",
    "    + **1** * 2<sup>1</sup> \n",
    "    + **1** * 2<sup>0</sup> = 101111<sub>2</sub> = 00101111 (char) = 00000000 00000000 00000000 00101111 (int)\n",
    "    \n",
    "```\n",
    "[high bit, most significant bit = msb] 00000000 00000000 00000000 0 0 1 0 1 1 1 1 [low bit, lsb]\n",
    "                                      31                          7 6 5 4 3 2 1 0\n",
    "```"
   ]
  },
  {
   "cell_type": "code",
   "execution_count": 48,
   "metadata": {},
   "outputs": [
    {
     "name": "stdout",
     "output_type": "stream",
     "text": [
      "47\n"
     ]
    }
   ],
   "source": [
    "i = c_int32(0b101111)\n",
    "print(i.value)"
   ]
  },
  {
   "cell_type": "markdown",
   "metadata": {},
   "source": [
    "## What about negatives?\n",
    "\n",
    "### Sign-magnitude\n",
    "Use the highes bit of type to store negative sign (1 ~ -)\n",
    "\n",
    "What about simple arithmetics? Two zeros?\n",
    "\n",
    "### One's complement\n",
    "\n",
    "`-00101111` => `11010000`\n",
    "\n",
    "But still 2 zeros. \n",
    "\n",
    "And what about arithmetics?\n",
    "\n",
    "### Two's complement\n",
    "\n",
    "... for negative integers, the absolute value of the integer is equal to \"the magnitude of the complement of the (n-1)-bit binary pattern plus one\" (hence called 2's complement).\n",
    "\n",
    "`1B -13: ~(0 000 1101 - 1) -> ~(0 000 1100) -> (1 111 0011)`\n",
    "\n",
    "`2B -13: ~(0 0000000 0000 1101 - 1) -> ~(0 0000000 0000 1100) -> (1 1111111 1111 0011)`\n",
    "\n",
    "Sum:\n",
    "```\n",
    "    1111 0011\n",
    "  + 0000 1101\n",
    "    ---------\n",
    "   10000 0000\n",
    "```"
   ]
  },
  {
   "cell_type": "code",
   "execution_count": 61,
   "metadata": {},
   "outputs": [
    {
     "name": "stdout",
     "output_type": "stream",
     "text": [
      "-13 -13\n"
     ]
    }
   ],
   "source": [
    "b = c_byte(0b11110011)\n",
    "s = c_int16(0b1111111111110011)\n",
    "print(b.value, s.value)"
   ]
  },
  {
   "cell_type": "markdown",
   "metadata": {},
   "source": [
    "#### Problems\n",
    "\n",
    "1. What will be `-128` in 1-byte representation?\n",
    "2. What is decimal for `01000001`?\n",
    "3. What is decimal for `10000001`?"
   ]
  },
  {
   "cell_type": "markdown",
   "metadata": {},
   "source": [
    "## Real numbers"
   ]
  },
  {
   "cell_type": "code",
   "execution_count": 65,
   "metadata": {},
   "outputs": [
    {
     "name": "stdout",
     "output_type": "stream",
     "text": [
      "-105.0\n"
     ]
    }
   ],
   "source": [
    "f = -1.05e+2\n",
    "print(f)"
   ]
  },
  {
   "cell_type": "markdown",
   "metadata": {},
   "source": [
    "We will speak about 1-precision numbers (`float`). Doubles are described by the same standard and differ only in positions.\n",
    "\n",
    "For floating point value 4 bytes are used as follows:\n",
    "1. The most significant bit is the **sign bit** (S), with 0 for positive numbers and 1 for negative numbers.\n",
    "2. The following 8 bits represent **exponent** (E).\n",
    "3. The remaining 23 bits represents **fraction** (F).\n",
    "\n",
    "![](https://upload.wikimedia.org/wikipedia/commons/thumb/d/d2/Float_example.svg/885px-Float_example.svg.png)"
   ]
  },
  {
   "cell_type": "markdown",
   "metadata": {},
   "source": [
    "### Example\n",
    "`1  1000 0001  011 0000 0000 0000 0000 0000`, with:\n",
    "- S = 1\n",
    "- E = 1000 0001 = 129<sub>10</sub>\n",
    "- F = 011 0000 0000 0000 0000 0000\n",
    "\n",
    "1. In the normalized form, the actual fraction F is normalized with an implicit leading 1 in the form of `1.F`.\n",
    "2. In normalized form, the actual exponent is `E-127` (-1024 for double)\n",
    "\n",
    "Thus:\n",
    "\n",
    "(-1) * (1 + 1/4 + 1/8) * 2<sup>(129 - 127)</sup> = -1.375 * 4 = -5.5\n",
    "    "
   ]
  },
  {
   "cell_type": "code",
   "execution_count": 78,
   "metadata": {},
   "outputs": [
    {
     "name": "stdout",
     "output_type": "stream",
     "text": [
      "-5.5\n"
     ]
    }
   ],
   "source": [
    "import ctypes\n",
    "i = c_uint32(0b1_1000_0001_011_0000_0000_0000_0000_0000)\n",
    "fp = ctypes.cast(ctypes.addressof(i), ctypes.POINTER(c_float))\n",
    "f = fp[0]\n",
    "print(f)"
   ]
  },
  {
   "cell_type": "markdown",
   "metadata": {},
   "source": [
    "Normalized form has a serious problem, with an implicit leading `1.` for the fraction, it cannot represent the number `0`."
   ]
  },
  {
   "cell_type": "markdown",
   "metadata": {},
   "source": [
    "### Special values and subnormal (denormalized) numbers\n",
    "\n",
    "There are 2 special cases of exponent.\n",
    "\n",
    "`E = 0000 0000`\n",
    "\n",
    "1. If `F = 0`, then the number is considered ±0.\n",
    "2. If `F > 0`, then this is **subnormal** number. Subnormal numbers processed differently: `value = S * 0.F * 2^(-126)`. There are also flush-to-zero (FTZ) and denormals-are-zero (DAZ) CPU flags.\n",
    "\n",
    "E.g.\n",
    "\n",
    "`1  0000 0000  011 0000 0000 0000 0000 0000`, with:\n",
    "- S = 1\n",
    "- E = 0000 0000\n",
    "- F = 011 0000 0000 0000 0000 0000\n",
    "\n",
    "`-0.375×2^(-126) ~ -4.4×10^(-39)`"
   ]
  },
  {
   "cell_type": "code",
   "execution_count": 83,
   "metadata": {},
   "outputs": [
    {
     "name": "stdout",
     "output_type": "stream",
     "text": [
      "-4.408103815583578e-39\n"
     ]
    }
   ],
   "source": [
    "i = c_uint32(0b1_0000_0000_011_0000_0000_0000_0000_0000)\n",
    "fp = ctypes.cast(ctypes.addressof(i), ctypes.POINTER(c_float))\n",
    "f = fp[0]\n",
    "print(f)"
   ]
  },
  {
   "cell_type": "markdown",
   "metadata": {},
   "source": [
    "`E = 1111 1111`\n",
    "\n",
    "1. "
   ]
  },
  {
   "cell_type": "markdown",
   "metadata": {},
   "source": [
    "https://docs.google.com/document/d/1bDwyXvjsseviSKq8sJo5ObEen02XuX4WDnOoGX3W18w/edit#\n",
    "\n",
    "Представление числа. Целые, длинные, с плавающей запятой. Особенности использования в приложении к точности и скорости вычислений.\n",
    "Варианты представления чисел.\n",
    "Арифметическое переполнение.\n",
    "Неравномерность действительных чисел.\n",
    "Особенности сложения."
   ]
  },
  {
   "cell_type": "markdown",
   "metadata": {},
   "source": [
    "Числа с плавающей запятой (точкой)\n",
    "The most significant bit is the sign bit (S), with 0 for positive numbers and 1 for negative numbers.\n",
    "The following 8 bits represent exponent (E).\n",
    "The remaining 23 bits represents fraction (F).\n",
    "1 1000 0001 011 0000 0000 0000 0000 0000, with:\n",
    "S = 1\n",
    "E = 1000 0001\n",
    "F = 011 0000 0000 0000 0000 0000\n",
    "In the normalized form, the actual fraction F is normalized with an implicit leading 1 in the form of 1.F\n",
    "1.011 0000 0000 0000 0000 0000 = 1 + 1×2^-2 + 1×2^-3 = 1.375.\n",
    "S=1, this is a negative number, i.e., -1.375\n",
    "In normalized form, the actual exponent is E-127 (-1024 for double). Actual exponent of -127 to 128\n",
    "E-127 = 1000 00012 - 12710 = 129-127=2.  ⇒ -1.375×2^2=-5.5\n",
    "Normalized form has a serious problem, with an implicit leading 1 for the fraction, it cannot represent the number zero.\n",
    "Согласно стандарту, если порядок равен своему минимальному значению (все его биты — нули, а истинное значение порядка равно его сдвигу) и все биты мантиссы равны нулю, то это  ±0. Если же мантисса не равна нулю, то это число с порядком, на единицу большим минимального (все биты порядка, кроме младшего — нули) и данной мантиссой, целая часть которой считается равной нулю, а не единице. Ввиду сложности денормализованные числа крайне редко реализуют на аппаратном уровне - вместо этого используются программные реализации, работающие значительно медленнее.\n",
    "Иногда они просто игнорируются. При этом используются два простых механизма, получивших название Flush-to-zero (FTZ) и Denormals-are-zero (DAZ).\n",
    "В версии стандарта IEEE 754-2008 денормализованные числа (denormal или denormalized numbers) были переименованы в subnormal numbers, то есть в числа, меньшие \"нормальных\"\n",
    "For E=0, the numbers are in the de-normalized form. An implicit leading 0 (instead of 1) is used for the fraction; and the actual exponent is always -126. Hence, the number zero can be represented with E=0 and F=0 (because 0.0×2^-126=0).\n",
    "Положительный нуль +0 и отрицательный нуль −0. число считается нулём, если все его биты, кроме знакового, равны нулю. При этом в зависимости от значения бита знака ноль может быть как положительным, так и отрицательным.\n",
    "We can also represent very small positive and negative numbers in de-normalized form with E=0. For example, if S=1, E=0, and F=011 0000 0000 0000 0000 0000. The actual fraction is \n",
    "0.011...2 = 1×2^(-2)+1×2^(-3)=0.375\n",
    "Since S=1, it is a negative number. With E=0, the actual exponent is -126. Hence the number is \n",
    "-0.375×2^(-126) = -4.4×10^(-39)\n",
    "which is an extremely small negative number (close to zero).\n"
   ]
  }
 ],
 "metadata": {
  "kernelspec": {
   "display_name": "Python 3",
   "language": "python",
   "name": "python3"
  },
  "language_info": {
   "codemirror_mode": {
    "name": "ipython",
    "version": 3
   },
   "file_extension": ".py",
   "mimetype": "text/x-python",
   "name": "python",
   "nbconvert_exporter": "python",
   "pygments_lexer": "ipython3",
   "version": "3.7.4"
  }
 },
 "nbformat": 4,
 "nbformat_minor": 4
}
