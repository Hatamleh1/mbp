{
 "cells": [
  {
   "cell_type": "markdown",
   "metadata": {},
   "source": [
    "# Integer numbers\n",
    "$x\\in\\mathbb{Z}$\n",
    "## Python disclaimer\n",
    "Originally computers we designed to solve computational tasks (over numbers). CPU Architectures (e.g. x64) encount the fact that operations over $\\mathbb{Z}$ and $\\mathbb{R}$ should be predictibly fast: they [fix number representation length](https://en.wikipedia.org/wiki/Processor_register#Size), sacrifising precision or edge cases.\n",
    "\n",
    "Most programming languages reuse CPU number representation, defined in [standards](https://en.wikipedia.org/wiki/IEEE_754-2008_revision): `short, int, long, float/real, double` in majority of languages are binary interchangable.\n",
    "\n",
    "Python is following this strategy for $\\mathbb{R}$ (`float`) data, but disrespects for $\\mathbb{Z}$ (`int`)."
   ]
  },
  {
   "cell_type": "code",
   "execution_count": 1,
   "metadata": {},
   "outputs": [
    {
     "name": "stdout",
     "output_type": "stream",
     "text": [
      "<class 'int'>\t x ~ 64 B; y ~ 28 B\n",
      "<class 'float'>\t a ~ 24 B; b ~ 24 B\n"
     ]
    }
   ],
   "source": [
    "import sys\n",
    "x = 10000000000000000000000000000000000000000000000000000000000000000000000000000000000\n",
    "y = 20\n",
    "a = 20.\n",
    "b = 0.000000000000000000000000000000000000000000000000000000000000000000000000000000001\n",
    "print(f'{type(x)}\\t x ~ {sys.getsizeof(x)} B; y ~ {sys.getsizeof(y)} B')\n",
    "print(f'{type(a)}\\t a ~ {sys.getsizeof(a)} B; b ~ {sys.getsizeof(b)} B')"
   ]
  },
  {
   "cell_type": "markdown",
   "metadata": {},
   "source": [
    "This is how this difference can be observed"
   ]
  },
  {
   "cell_type": "code",
   "execution_count": 2,
   "metadata": {},
   "outputs": [
    {
     "name": "stdout",
     "output_type": "stream",
     "text": [
      "x^4 = 10000000000000000000000000000000000000000000000000000000000000000000000000000000000000000000000000000000000000000000000000000000000000000000000000000000000000000000000000000000000000000000000000000000000000000000000000000000000000000000000000000000000000000000000000000000000000000000000000000000000000000000000000000000000000000\n",
      "b^4 = 0.0 True\n"
     ]
    }
   ],
   "source": [
    "print(\"x^4 =\", x**4)\n",
    "print(\"b^4 =\", b**4, b**4 == 0)"
   ]
  },
  {
   "cell_type": "markdown",
   "metadata": {},
   "source": [
    "To make python work as other languages we will use [native types](https://stackoverflow.com/questions/19716315/how-to-create-a-fixed-size-unsigned-integer-in-python)."
   ]
  },
  {
   "cell_type": "code",
   "execution_count": 3,
   "metadata": {},
   "outputs": [],
   "source": [
    "from ctypes import c_char, c_byte, c_ushort, c_int16, c_uint32, c_int32, c_float\n",
    "import ctypes\n",
    "\n",
    "i = c_int32(2000000000)\n",
    "f = c_float()\n",
    "f.value = .4"
   ]
  },
  {
   "cell_type": "markdown",
   "metadata": {},
   "source": [
    "## Signed integer numbers\n",
    "\n",
    "Binary number representation:\n",
    "\n",
    "47<sub>10</sub> = \n",
    "**1** * 2<sup>5</sup> + 0 * 2<sup>4</sup> + **1** * 2<sup>3</sup> + **1** * 2<sup>2</sup> + **1** * 2<sup>1</sup> + **1** * 2<sup>0</sup> \n",
    "= 101111<sub>2</sub> = 00101111 (char) = 00000000 00000000 00000000 00101111 (int)\n",
    "    \n",
    "```\n",
    "[high bit, most significant bit = msb] 00000000 00000000 00000000 0 0 1 0 1 1 1 1 [low bit, lsb]\n",
    "                                      31                          7 6 5 4 3 2 1 0\n",
    "```"
   ]
  },
  {
   "cell_type": "code",
   "execution_count": 4,
   "metadata": {},
   "outputs": [
    {
     "name": "stdout",
     "output_type": "stream",
     "text": [
      "47\n"
     ]
    }
   ],
   "source": [
    "i = c_int32(0b101111)\n",
    "print(i.value)"
   ]
  },
  {
   "cell_type": "markdown",
   "metadata": {},
   "source": [
    "## What about negatives?\n",
    "\n",
    "### Sign-magnitude\n",
    "Use the **MSB** to store negative sign (1 ~ -). Keep others to represent a magnitude.\n",
    "\n",
    "$-10_{10} = -00001010_2=10001010_2$\n",
    "\n",
    "- What about simple arithmetics?\n",
    "- Two zeros?\n",
    "\n",
    "### One's complement\n",
    "Use the **MSB** to store negative sign (1 ~ -). Invert others.\n",
    "\n",
    "`-00101111` => `11010000`\n",
    "- ... but still 2 zeros.\n",
    "  - `00000000`\n",
    "  - `11111111`\n",
    "- And what about arithmetics?\n",
    "\n",
    "### Two's complement\n",
    "\n",
    "... for negative integers, the absolute value of the integer is equal to \"the magnitude of the complement of the (n-1)-bit binary pattern plus one\" (hence called 2's complement).\n",
    "\n",
    "`1B -13: ~(0 000 1101 - 1) -> ~(0 000 1100) -> (1 111 0011)`\n",
    "\n",
    "`2B -13: ~(0 0000000 0000 1101 - 1) -> ~(0 0000000 0000 1100) -> (1 1111111 1111 0011)`\n",
    "\n",
    "Sum:\n",
    "```\n",
    "    1111 0011\n",
    "  + 0000 1101\n",
    "    ---------\n",
    "   10000 0000\n",
    "```"
   ]
  },
  {
   "cell_type": "code",
   "execution_count": 5,
   "metadata": {},
   "outputs": [
    {
     "name": "stdout",
     "output_type": "stream",
     "text": [
      "byte = -13, int16 = -13\n"
     ]
    }
   ],
   "source": [
    "b = c_byte(0b11110011)\n",
    "s = c_int16(0b1111111111110011)\n",
    "print(f'byte = {b.value}, int16 = {s.value}')"
   ]
  },
  {
   "cell_type": "markdown",
   "metadata": {},
   "source": [
    "#### Problems\n",
    "\n",
    "1. What will be `-128` in 1-byte representation?\n",
    "2. What is decimal for `01000001`?\n",
    "3. What is decimal for `10000001`?"
   ]
  },
  {
   "cell_type": "markdown",
   "metadata": {},
   "source": [
    "## Real numbers"
   ]
  },
  {
   "cell_type": "code",
   "execution_count": 6,
   "metadata": {},
   "outputs": [
    {
     "name": "stdout",
     "output_type": "stream",
     "text": [
      "-105.0\n"
     ]
    }
   ],
   "source": [
    "f = -1.05e+2\n",
    "print(f)"
   ]
  },
  {
   "cell_type": "markdown",
   "metadata": {},
   "source": [
    "We will speak about 1-precision numbers (`float`). Doubles are described by the same standard and differ only in positions.\n",
    "\n",
    "For floating point value 4 bytes are used as follows:\n",
    "1. The most significant bit is the **sign bit** (S), with 0 for positive numbers and 1 for negative numbers.\n",
    "2. The following 8 bits represent **exponent** (E).\n",
    "3. The remaining 23 bits represents **fraction** (F).\n",
    "\n",
    "![](https://upload.wikimedia.org/wikipedia/commons/thumb/d/d2/Float_example.svg/885px-Float_example.svg.png)"
   ]
  },
  {
   "cell_type": "code",
   "execution_count": 1,
   "metadata": {},
   "outputs": [],
   "source": [
    "def bits_to_cfloat(bits):\n",
    "    i = c_uint32(bits)                 # first we create unsigned 4-byte integer value\n",
    "    ip = ctypes.addressof(i)           # then we take an address of this value\n",
    "    fp = ctypes.cast(ip, ctypes.POINTER(c_float))  # and then we re-interpret the pointer as a pointer to 4-bytes float\n",
    "    # bits will remain the same\n",
    "    return fp[0]"
   ]
  },
  {
   "cell_type": "markdown",
   "metadata": {},
   "source": [
    "### Example\n",
    "`1 . 1000 0001 . 011 0000 0000 0000 0000 0000`, with:\n",
    "- S = 1\n",
    "- E = 1000 0001 = 129<sub>10</sub>\n",
    "- F = 011 0000 0000 0000 0000 0000\n",
    "\n",
    "1. In the normalized form, the actual fraction F is normalized with an implicit leading 1 in the form of `1.F`.\n",
    "2. In normalized form, the actual exponent is `E-127` (-1024 for double)\n",
    "\n",
    "Thus:\n",
    "\n",
    "(-1) * (1 + 1/4 + 1/8) * 2<sup>(129 - 127)</sup> = -1.375 * 4 = -5.5\n",
    "    "
   ]
  },
  {
   "cell_type": "code",
   "execution_count": 8,
   "metadata": {},
   "outputs": [
    {
     "name": "stdout",
     "output_type": "stream",
     "text": [
      "-5.5\n"
     ]
    }
   ],
   "source": [
    "f = bits_to_cfloat(0b1_10000001_0110000_00000000_00000000)\n",
    "print(f)"
   ]
  },
  {
   "cell_type": "markdown",
   "metadata": {},
   "source": [
    "Normalized form has a serious problem, with an implicit leading `1.` for the fraction, it cannot represent the number `0`."
   ]
  },
  {
   "cell_type": "markdown",
   "metadata": {},
   "source": [
    "### Special values and subnormal (denormalized) numbers\n",
    "\n",
    "There are 2 special cases of exponent.\n",
    "\n",
    "`E = 0000 0000`\n",
    "\n",
    "1. If `F = 0`, then the number is considered ±0.\n",
    "2. If `F > 0`, then this is **subnormal** number. Subnormal numbers processed differently: `value = S * 0.F * 2^(-126)`. There are also flush-to-zero (FTZ) and denormals-are-zero (DAZ) CPU flags.\n",
    "\n",
    "E.g.\n",
    "\n",
    "`1 . 0000 0000 . 011 0000 0000 0000 0000 0000`, with:\n",
    "- S = 1\n",
    "- E = 0000 0000\n",
    "- F = 011 0000 0000 0000 0000 0000\n",
    "\n",
    "`-0.375×2^(-126) ~ -4.4×10^(-39)`"
   ]
  },
  {
   "cell_type": "code",
   "execution_count": 9,
   "metadata": {},
   "outputs": [
    {
     "name": "stdout",
     "output_type": "stream",
     "text": [
      "-4.408103815583578e-39\n"
     ]
    }
   ],
   "source": [
    "f = bits_to_cfloat(0b1_0000_0000_011_0000_0000_0000_0000_0000)\n",
    "print(f)"
   ]
  },
  {
   "cell_type": "markdown",
   "metadata": {},
   "source": [
    "## Problem 2\n",
    "Write a bit string for the biggest negative number. Check with code."
   ]
  },
  {
   "cell_type": "code",
   "execution_count": 10,
   "metadata": {},
   "outputs": [
    {
     "name": "stdout",
     "output_type": "stream",
     "text": [
      "0.00000000000000000000000000000000000000000000000000\n"
     ]
    }
   ],
   "source": [
    "bits = 0b00000000000000000000000000000000\n",
    "print(f'{bits_to_cfloat(bits):.50f}')"
   ]
  },
  {
   "cell_type": "markdown",
   "metadata": {},
   "source": [
    "`E = 1111 1111`\n",
    "\n",
    "1. If `F = 0000 0000` then the value is `inf`. Infinity can be both positive or negative.\n",
    "2. If `F` is any other, then the value is *not-a-number* (NaN).\n",
    "- ∞+(-∞)=NaN\n",
    "- 0×∞=NaN\n",
    "- ±0/±0=NaN\n",
    "- ±∞/±∞=NaN\n",
    "- sqrt(x) = NaN, где x<0"
   ]
  },
  {
   "cell_type": "code",
   "execution_count": 11,
   "metadata": {},
   "outputs": [
    {
     "name": "stdout",
     "output_type": "stream",
     "text": [
      "inf -inf nan\n",
      "nan\n"
     ]
    }
   ],
   "source": [
    "myminf = bits_to_cfloat(0b1_11111111_00000000000000000000000)\n",
    "myinf = bits_to_cfloat(0b0_11111111_00000000000000000000000)\n",
    "mynan = bits_to_cfloat(0b1_11111111_11111111111111111111111)\n",
    "print(myinf, myminf, mynan)\n",
    "print(myinf * 0)"
   ]
  },
  {
   "cell_type": "markdown",
   "metadata": {},
   "source": [
    "### Computations\n",
    "- How many `float` values are there between `1.000(0)*2^N` and `1.111(1)*2^N`?\n",
    "- What is their density?"
   ]
  },
  {
   "cell_type": "markdown",
   "metadata": {},
   "source": [
    "\n",
    "-\n",
    "\n",
    "-\n",
    "\n",
    "-\n",
    "\n",
    "-\n",
    "\n"
   ]
  },
  {
   "cell_type": "code",
   "execution_count": null,
   "metadata": {},
   "outputs": [],
   "source": [
    "import matplotlib.pyplot as plt\n",
    "\n",
    "def density(N):\n",
    "    # TODO write your soultion here\n",
    "    return 1\n",
    "\n",
    "Ns = list(range(-10, 11))\n",
    "Ds = [density(N) for N in Ns]\n",
    "\n",
    "plt.plot(Ns, Ds)\n",
    "plt.show()"
   ]
  },
  {
   "cell_type": "code",
   "execution_count": 12,
   "metadata": {},
   "outputs": [
    {
     "name": "stdout",
     "output_type": "stream",
     "text": [
      "100000000000000000.0\n",
      "100000000000000000.0\n",
      "100000000000000016.0\n",
      "100000000000000096.0\n",
      "100000000000000992.0\n"
     ]
    }
   ],
   "source": [
    "x = 10. ** 17\n",
    "print(f'{x:.1f}')\n",
    "print(f'{x+1:.1f}')\n",
    "print(f'{x+10:.1f}')\n",
    "print(f'{x+100:.1f}')\n",
    "print(f'{x+1000:.1f}')"
   ]
  },
  {
   "cell_type": "code",
   "execution_count": 13,
   "metadata": {},
   "outputs": [
    {
     "name": "stdout",
     "output_type": "stream",
     "text": [
      "10000000000000.0000000000000000000000000000000000000000\n",
      "10000000004096.0000000000000000000000000000000000000000\n"
     ]
    }
   ],
   "source": [
    "sum1 = 10000000000000.0\n",
    "for i in range(2 ** 24):\n",
    "    sum1 += 2 ** (-12)\n",
    "print(f'{sum1:.40f}')\n",
    "\n",
    "sum2 = 0.0\n",
    "for i in range(2 ** 24):\n",
    "    sum2 += 2 ** (-12)\n",
    "sum2 += 10000000000000.0\n",
    "print(f'{sum2:.40f}')"
   ]
  }
 ],
 "metadata": {
  "kernelspec": {
   "display_name": "Python 3",
   "language": "python",
   "name": "python3"
  },
  "language_info": {
   "codemirror_mode": {
    "name": "ipython",
    "version": 3
   },
   "file_extension": ".py",
   "mimetype": "text/x-python",
   "name": "python",
   "nbconvert_exporter": "python",
   "pygments_lexer": "ipython3",
   "version": "3.7.4"
  }
 },
 "nbformat": 4,
 "nbformat_minor": 4
}
