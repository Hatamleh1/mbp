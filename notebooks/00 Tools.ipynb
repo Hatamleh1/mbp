{
 "cells": [
  {
   "cell_type": "markdown",
   "metadata": {},
   "source": [
    "# Python and Anaconda #\n",
    "[Anaconda](https://www.anaconda.com/products/individual) = Python + Libraries + Editors (Jupyter Notebook/Lab) + Community.\n",
    "\n",
    "Jupyter allows to run and rerun python code, plot graphs inline and run terminal commands.\n",
    "\n",
    "You can install in or use [Google Colab](https://colab.research.google.com/). It stores notebooks in your Google Drive and gives you environment to execute your code."
   ]
  },
  {
   "cell_type": "code",
   "execution_count": 1,
   "metadata": {},
   "outputs": [
    {
     "name": "stdout",
     "output_type": "stream",
     "text": [
      "Requirement already satisfied: wget in c:\\anaconda\\lib\\site-packages (3.2)\n"
     ]
    }
   ],
   "source": [
    "!pip install wget"
   ]
  },
  {
   "cell_type": "markdown",
   "metadata": {},
   "source": [
    "# Markdown #\n",
    "Markdown is the way how I __write__ <u>formatted</u> *text* **for** you.\n",
    "\n",
    "Markdown allows easily create:\n",
    "- headers\n",
    "- lists\n",
    "- _italics_, **bold**, `monospace` ...\n",
    "- partially support <a href=\"google.com\">html tags</a>.\n",
    "- can insert [URLs](google.com) and images ![](https://www.google.com/images/branding/googlelogo/1x/googlelogo_color_272x92dp.png)\n",
    "- ...\n",
    "\n",
    "To host documents, written in markdown you can use Github, [Hackmd.io](https://hackmd.io/).\n",
    "\n",
    "But the most important, MD supports $\\TeX$."
   ]
  },
  {
   "cell_type": "markdown",
   "metadata": {},
   "source": [
    "# $\\TeX$ & $\\LaTeX$ #"
   ]
  },
  {
   "cell_type": "markdown",
   "metadata": {},
   "source": [
    "$\\TeX$ (from greek `τέχνη`) was invented by [Donald Knuth](https://en.wikipedia.org/wiki/Donald_Knuth) in 1978, when he was not satisfied how his book was printed. Initally this was just a layout engine, which allowed to automatically place tables, images, ... in text. Later [Leslie Lamport](https://en.wikipedia.org/wiki/Leslie_Lamport) funded the most well known library of macros - $\\LaTeX$.\n",
    "\n",
    "Today $\\TeX$ and $\\LaTeX$ are de-facto standards for scientific paper writing.\n",
    "\n",
    "Some important shortcuts for the future course:\n",
    "\n",
    "$$\\begin{align}\n",
    "\\rightarrow, \\Rightarrow, \\leq, \\geq, \\equiv, \\sim \\\\\n",
    "A\\in B, \\oslash\\subset A, B\\supseteq A, A\\times B, a\\cdot b \\\\\n",
    "\\alpha, \\beta; \\omega+\\Omega,\\theta+\\Theta, o+\\mathcal{O}, \\Delta, \\nabla \\\\\n",
    "a_b, a_{bbb}, a^b, a^{bbb}, \\sum_{a=4}^{\\infty}\\left(\\frac{x^2}{2*\\epsilon}\\right), \\int_{-\\infty}^{+\\infty}x^2dx, \\frac{\\partial f}{\\partial x}\n",
    "\\end{align} \\\\\n",
    "\\begin{bmatrix} 2 & f(y) & y \\\\ 1 & x & 0 \\\\ 3 & y & 1 \\end{bmatrix} \\times A = \n",
    "\\begin{bmatrix} 1 & 0 \\\\ 0 & 1 \\\\ 0 & 0 \\end{bmatrix}$$"
   ]
  },
  {
   "cell_type": "markdown",
   "metadata": {},
   "source": [
    "# Git #\n",
    "Git is the most widely used version control system in industry. Major commands you need to know in master-only development mode are:\n",
    "\n",
    "Clone project to your machine:\n",
    "```\n",
    "git clone https://github.com/hsu-ai-course/mbp.git\n",
    "```\n",
    "\n",
    "Download updates:\n",
    "```\n",
    "git pull\n",
    "```\n",
    "\n",
    "Check if there are local changes:\n",
    "```\n",
    "git status\n",
    "```\n",
    "\n",
    "What has changed:\n",
    "```\n",
    "git diff [file]\n",
    "```\n",
    "\n",
    "Add changes to future commit (new or changes files of folders):\n",
    "```\n",
    "git add file.txt folder/*\n",
    "```\n",
    "\n",
    "Create a commit:\n",
    "```\n",
    "git commit -m \"This is what I am done\"\n",
    "```\n",
    "\n",
    "Push a commit to repositry:\n",
    "```\n",
    "git push\n",
    "```\n",
    "\n",
    "Woops, I did wrong things (added to commit):\n",
    "```\n",
    "git reset [file]\n",
    "```"
   ]
  }
 ],
 "metadata": {
  "kernelspec": {
   "display_name": "Python 3",
   "language": "python",
   "name": "python3"
  },
  "language_info": {
   "codemirror_mode": {
    "name": "ipython",
    "version": 3
   },
   "file_extension": ".py",
   "mimetype": "text/x-python",
   "name": "python",
   "nbconvert_exporter": "python",
   "pygments_lexer": "ipython3",
   "version": "3.7.4"
  }
 },
 "nbformat": 4,
 "nbformat_minor": 4
}
