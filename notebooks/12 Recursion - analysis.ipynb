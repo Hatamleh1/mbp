{
 "cells": [
  {
   "cell_type": "markdown",
   "metadata": {},
   "source": [
    "# Recursion analysis\n",
    "Beautiful thing - recurrence formulas time analysis is solving recurrence relations! \n",
    "\n",
    "Simplest approach - write an exhaustive formula and expand the brackets."
   ]
  },
  {
   "cell_type": "code",
   "execution_count": 1,
   "metadata": {},
   "outputs": [],
   "source": [
    "def fact(n):              # T(n)\n",
    "    if n < 2:             # 1\n",
    "        return 1          # 0\n",
    "    return n * fact(n-1)  # 2 + T(n-1) "
   ]
  },
  {
   "cell_type": "markdown",
   "metadata": {},
   "source": [
    "$T(1) = 1$\n",
    "\n",
    "$T(n) = 1 + 2 + T(n - 1) = T(n - 1) + 3$\n",
    "\n",
    "..."
   ]
  },
  {
   "cell_type": "markdown",
   "metadata": {},
   "source": [
    "But what if equation involves non-linear terms?\n",
    "\n",
    "# Master theorem\n",
    "Master theorem is a beatiful statement, which covers a wide range of algorithms in divide-and-conquer strategy."
   ]
  },
  {
   "cell_type": "code",
   "execution_count": 16,
   "metadata": {},
   "outputs": [
    {
     "data": {
      "text/plain": [
       "[1, 2, 2, 3, 3, 4, 4, 5]"
      ]
     },
     "execution_count": 16,
     "metadata": {},
     "output_type": "execute_result"
    }
   ],
   "source": [
    "# https://stackabuse.com/merge-sort-in-python/\n",
    "\n",
    "def merge(array, left_index, right_index, middle):\n",
    "    # Make copies of both arrays we're trying to merge\n",
    "\n",
    "    # The second parameter is non-inclusive, so we have to increase by 1\n",
    "    left_copy = array[left_index:middle + 1]\n",
    "    right_copy = array[middle + 1:right_index + 1]\n",
    "    \n",
    "    # Initial values for variables that we use to keep\n",
    "    # track of where we are in each array\n",
    "    left_copy_index = 0\n",
    "    right_copy_index = 0\n",
    "    sorted_index = left_index\n",
    "\n",
    "    # Go through both copies until we run out of elements in one\n",
    "    while left_copy_index < len(left_copy) and right_copy_index < len(right_copy):\n",
    "\n",
    "        # If our left_copy has the smaller element, put it in the sorted\n",
    "        # part and then move forward in left_copy (by increasing the pointer)\n",
    "        if left_copy[left_copy_index] <= right_copy[right_copy_index]:\n",
    "            array[sorted_index] = left_copy[left_copy_index]\n",
    "            left_copy_index += 1\n",
    "        # Opposite from above\n",
    "        else:\n",
    "            array[sorted_index] = right_copy[right_copy_index]\n",
    "            right_copy_index += 1\n",
    "\n",
    "        # Regardless of where we got our element from\n",
    "        # move forward in the sorted part\n",
    "        sorted_index = sorted_index + 1\n",
    "        \n",
    "    # We ran out of elements either in left_copy or right_copy\n",
    "    # so we will go through the remaining elements and add them\n",
    "    while left_copy_index < len(left_copy):\n",
    "        array[sorted_index] = left_copy[left_copy_index]\n",
    "        left_copy_index = left_copy_index + 1\n",
    "        sorted_index = sorted_index + 1\n",
    "\n",
    "    while right_copy_index < len(right_copy):\n",
    "        array[sorted_index] = right_copy[right_copy_index]\n",
    "        right_copy_index = right_copy_index + 1\n",
    "        sorted_index = sorted_index + 1\n",
    "\n",
    "def merge_sort(array, left_index, right_index):\n",
    "    if left_index > right_index - 1:                   # 2\n",
    "        return\n",
    "    middle = (left_index + right_index)//2             # 2\n",
    "    merge_sort(array, left_index, middle)              # T(n / 2)\n",
    "    merge_sort(array, middle + 1, right_index)         # T(n / 2)\n",
    "    merge(array, left_index, right_index, middle)      # O(n)\n",
    "    \n",
    "a = [5, 4, 3, 2, 1, 2, 3, 4]\n",
    "merge_sort(a, 0, len(a)-1)\n",
    "a"
   ]
  },
  {
   "cell_type": "markdown",
   "metadata": {},
   "source": [
    "$\\huge T(n) = 2T(\\frac{n}{2})+O(n) + 4 = 2T(\\frac{n}{2})+O(n)$"
   ]
  },
  {
   "cell_type": "markdown",
   "metadata": {},
   "source": [
    "## The theorem\n",
    "\n",
    "If the recurrence relation looks like this:\n",
    "\n",
    "$\\huge{\\displaystyle T(n)=a\\;T\\left({\\frac {n}{b}}\\right)+f(n),}$\n",
    "\n",
    "then:\n",
    "\n",
    "Define a value: $\\large{\\displaystyle c_{\\operatorname {crit} }=\\log _{b}a}$.\n",
    "\n",
    "1. Tail is small. ${\\displaystyle f(n)=O(n^{c})}$, and $c < c_{crit}$. Then recursion eats the tail: $T(n)\\in\\Theta(n^{c_{crit}})=\\Theta(n^{log_ba})$.\n",
    "2. Tail is heavy. ${\\displaystyle f(n)=\\Omega (n^{c})}$ and $c > c_{crit}$. Then tail eats recurision. $T(n)\\in\\Theta(f(n))$.\n",
    "3. Edge case: ${\\displaystyle f(n)=\\Theta (n^{c_{\\operatorname {crit} }}\\log ^{k}n)}$. In particular, ${\\displaystyle f(n)=\\Theta (n^{c_{\\operatorname {crit} }})}$ for $k=0$. Then both parts contribute: ${\\displaystyle T(n)=\\Theta \\left(n^{c_{\\operatorname {crit} }}\\log ^{k+1}n\\right)}$."
   ]
  },
  {
   "cell_type": "markdown",
   "metadata": {},
   "source": [
    "## Tail is small\n",
    "\n",
    "### Karatsuba multiplication"
   ]
  },
  {
   "cell_type": "code",
   "execution_count": 17,
   "metadata": {},
   "outputs": [
    {
     "data": {
      "text/plain": [
       "122877"
      ]
     },
     "execution_count": 17,
     "metadata": {},
     "output_type": "execute_result"
    }
   ],
   "source": [
    "#### How we multiply on paper\n",
    "\n",
    "def mult(first, second, base=10):\n",
    "  result = 0\n",
    "  for c in second:\n",
    "    subresult = 0\n",
    "    for d in first:\n",
    "      subresult *= base\n",
    "      subresult += int(d, base) * int(c, base)\n",
    "    result *= base\n",
    "    result += subresult\n",
    "  return result\n",
    "\n",
    "mult('123', '999')"
   ]
  },
  {
   "cell_type": "code",
   "execution_count": null,
   "metadata": {},
   "outputs": [],
   "source": [
    "def cmp(a, b):\n",
    "    if len(a) > len(b): return 1\n",
    "    if len(a) < len(b): return -1\n",
    "    for c1, c2 in zip(a, b):\n",
    "        if c1 > c2: return 1\n",
    "        elif c1 < c2: return -1\n",
    "    return 0\n",
    "\n",
    "def isnegative(a):\n",
    "    return a[0] == \"-\"\n",
    "\n",
    "def flip(a):\n",
    "    if a == \"0\": return a\n",
    "    elif a[0] == \"-\": return a[1:]\n",
    "    else: return \"-\" + a\n",
    "\n",
    "def minus(a, b):\n",
    "    # replace minus with plus if possible\n",
    "    if isnegative(a) ^ isnegative(b):\n",
    "        if isnegative(a):\n",
    "            return flip(plus(flip(a), b))\n",
    "        else:\n",
    "            return plus(a, flip(b))\n",
    "        \n",
    "    if isnegative(a) and isnegative(b):\n",
    "        return flip(minus(flip(a), flip(b)))\n",
    "        \n",
    "    # only positive here\n",
    "    c = cmp(a, b)\n",
    "    if c == 0:\n",
    "        return \"0\"\n",
    "    if c < 0:\n",
    "        print(\"!\", a, b)\n",
    "        return flip(minus(b, a))\n",
    "    \n",
    "    result = \"\"\n",
    "    bonus = 0\n",
    "    la = len(a)\n",
    "    lb = len(b)\n",
    "\n",
    "    for i in range(max(la, lb)):\n",
    "        ca = int(a[la - i - 1]) if la - i > 0 else 0\n",
    "        cb = int(b[lb - i - 1]) if lb - i > 0 else 0\n",
    "        s = ca - cb + bonus\n",
    "        print(ca, cb, s, bonus, result)\n",
    "        result = str(s % 10) + result\n",
    "        bonus = s // 10\n",
    "    return result\n",
    "\n",
    "def plus(a, b):\n",
    "    # replace plus with minus if possible\n",
    "    if isnegative(a) ^ isnegative(b):\n",
    "        if isnegative(a):\n",
    "            return minus(b, a)\n",
    "        else:\n",
    "            return minus(a, b)\n",
    "    if isnegative(a) and isnegative(b):\n",
    "        return flip(plus(a, b))\n",
    "    \n",
    "    la = len(a)\n",
    "    lb = len(b)\n",
    "    result = \"\"\n",
    "    bonus = 0\n",
    "    for i in range(max(la, lb)):\n",
    "        ca = int(a[la - i - 1]) if la - i > 0 else 0\n",
    "        cb = int(b[lb - i - 1]) if lb - i > 0 else 0\n",
    "        s = ca + cb + bonus\n",
    "        result = str(s % 10) + result\n",
    "        bonus = s // 10\n",
    "    if bonus:\n",
    "        result = str(bonus) + result\n",
    "    return result\n",
    "\n",
    "def karatsuba():\n",
    "    \n"
   ]
  }
 ],
 "metadata": {
  "kernelspec": {
   "display_name": "Python 3",
   "language": "python",
   "name": "python3"
  },
  "language_info": {
   "codemirror_mode": {
    "name": "ipython",
    "version": 3
   },
   "file_extension": ".py",
   "mimetype": "text/x-python",
   "name": "python",
   "nbconvert_exporter": "python",
   "pygments_lexer": "ipython3",
   "version": "3.6.3"
  }
 },
 "nbformat": 4,
 "nbformat_minor": 4
}
