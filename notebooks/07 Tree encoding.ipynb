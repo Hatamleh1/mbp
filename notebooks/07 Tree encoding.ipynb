{
 "cells": [
  {
   "cell_type": "markdown",
   "metadata": {},
   "source": [
    "## Encoding a tree\n",
    "\n",
    "[Prufer's code](https://en.wikipedia.org/wiki/Pr%C3%BCfer_sequence).\n",
    "\n",
    "![](https://upload.wikimedia.org/wikipedia/commons/thumb/2/24/Tree_graph.svg/162px-Tree_graph.svg.png)\n",
    "\n",
    "**Encode**. Iteratively removing vertices from the tree until only two vertices remain:\n",
    "1. At step $i$, remove the **leaf** with the smallest label.\n",
    "2. Set the $i^{th}$ element of the Prüfer sequence to be the label of this leaf's neighbour.\n",
    "\n",
    "The Prüfer sequence of a labeled tree is unique and has length $n-2$.\n",
    "\n",
    "**Decode**.\n",
    "1. For a code $p$ of length $k$ create $k+2$ nodes numbers $s=[1,k+2]$.\n",
    "2. Find the node number $s_i\\in{s}$ with smallest value, which is not met in the code sequence $p$.\n",
    "3. Add $(s_i, p_1)$ edge.\n",
    "4. Remove $i$ from $s$ and $p_1$ from $p$.\n",
    "5. Repeat 2-4 while $p\\neq\\emptyset$\n",
    "6. Add $(s_1, s_2)$ edge.\n",
    "\n",
    "### $\\color{red}{Problems}$\n",
    "1. Create the code for a tree from the picture.\n",
    "2. How many different codes of length $n$ exist?\n",
    "3. Restore the tree for the code $5, 4, 1, 4, 2, 4$. Write the code.\n",
    "4. Is Prufer code assimpotically optimal?"
   ]
  },
  {
   "cell_type": "code",
   "execution_count": 2,
   "metadata": {},
   "outputs": [
    {
     "data": {
      "image/png": "[encoded data removed]",
      "text/plain": [
       "<Figure size 432x288 with 1 Axes>"
      ]
     },
     "metadata": {},
     "output_type": "display_data"
    }
   ],
   "source": [
    "import networkx as nx\n",
    "import matplotlib.pyplot as plt\n",
    "\n",
    "def restore_prufer(code):\n",
    "    G = nx.Graph()\n",
    "    s = list(range(1, len(code) + 2 + 1))\n",
    "    G.add_nodes_from(s)\n",
    "    s = set(s)\n",
    "    \n",
    "    for i in range(len(code)):\n",
    "        # TODO\n",
    "        continue\n",
    "        \n",
    "    G.add_edge(*list(s))\n",
    "    return G\n",
    "\n",
    "G = restore_prufer([5, 4, 1, 4, 2, 4])\n",
    "nx.draw(G, with_labels=True)\n",
    "plt.show()"
   ]
  }
 ],
 "metadata": {
  "kernelspec": {
   "display_name": "Python 3",
   "language": "python",
   "name": "python3"
  },
  "language_info": {
   "codemirror_mode": {
    "name": "ipython",
    "version": 3
   },
   "file_extension": ".py",
   "mimetype": "text/x-python",
   "name": "python",
   "nbconvert_exporter": "python",
   "pygments_lexer": "ipython3",
   "version": "3.7.4"
  }
 },
 "nbformat": 4,
 "nbformat_minor": 4
}
