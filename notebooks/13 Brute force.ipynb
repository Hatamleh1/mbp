{
 "cells": [
  {
   "cell_type": "markdown",
   "metadata": {},
   "source": [
    "Combinatorial optimization - Finding optimal (for some metric) element of a finite set.\n",
    "\n",
    "# Brute force methods\n",
    "\n",
    "Sometimes there is no other way rather than to a brute force search. Typical problematic statements - different combinatorial problems."
   ]
  },
  {
   "cell_type": "markdown",
   "metadata": {},
   "source": [
    "## All subsets\n",
    "\n",
    "$\\huge \\|2^A\\|=2^{\\|A\\|}$\n",
    "\n",
    "There is a function defined on a set. We need to find an optimal set within a limited domain. E.g. knapsack packing. Find a subset of elements with the biggest sum which fits into parameters."
   ]
  },
  {
   "cell_type": "code",
   "execution_count": 6,
   "metadata": {},
   "outputs": [
    {
     "data": {
      "text/plain": [
       "[[], ['a'], ['b'], ['a', 'b'], ['c'], ['a', 'c'], ['b', 'c'], ['a', 'b', 'c']]"
      ]
     },
     "execution_count": 6,
     "metadata": {},
     "output_type": "execute_result"
    }
   ],
   "source": [
    "def get_subsets(myset):\n",
    "    for i in range(2 ** len(myset)):\n",
    "        s = []\n",
    "        cpi = i\n",
    "        for j in range(len(myset)):\n",
    "            if cpi % 2 == 1:\n",
    "                s.append(myset[j])\n",
    "            cpi >>= 1\n",
    "        yield s\n",
    "    \n",
    "list(get_subsets('abc'))"
   ]
  },
  {
   "cell_type": "code",
   "execution_count": 7,
   "metadata": {},
   "outputs": [
    {
     "name": "stdout",
     "output_type": "stream",
     "text": [
      "Collecting bitsets\n",
      "  Downloading https://files.pythonhosted.org/packages/f8/03/2f11f242ba0f86860655e246f795bcd3a5601c23961d510458ba3de7da15/bitsets-0.7.16-py2.py3-none-any.whl\n",
      "Installing collected packages: bitsets\n",
      "Successfully installed bitsets-0.7.16\n"
     ]
    }
   ],
   "source": [
    "!pip install bitsets"
   ]
  },
  {
   "cell_type": "code",
   "execution_count": 17,
   "metadata": {},
   "outputs": [
    {
     "data": {
      "text/plain": [
       "[MySet(),\n",
       " MySet([1]),\n",
       " MySet([2]),\n",
       " MySet([3]),\n",
       " MySet([4]),\n",
       " MySet([1, 2]),\n",
       " MySet([1, 3]),\n",
       " MySet([1, 4]),\n",
       " MySet([2, 3]),\n",
       " MySet([2, 4]),\n",
       " MySet([3, 4]),\n",
       " MySet([1, 2, 3]),\n",
       " MySet([1, 2, 4]),\n",
       " MySet([1, 3, 4]),\n",
       " MySet([2, 3, 4]),\n",
       " MySet([1, 2, 3, 4])]"
      ]
     },
     "execution_count": 17,
     "metadata": {},
     "output_type": "execute_result"
    }
   ],
   "source": [
    "from bitsets import bitset\n",
    "\n",
    "def get_subsets2(myset):\n",
    "    MySet = bitset('MySet', myset)\n",
    "    return MySet.supremum.powerset()\n",
    "\n",
    "list(get_subsets2((1, 2, 3, 4)))"
   ]
  },
  {
   "cell_type": "code",
   "execution_count": 33,
   "metadata": {},
   "outputs": [
    {
     "data": {
      "text/plain": [
       "[(),\n",
       " (1,),\n",
       " (2,),\n",
       " (3,),\n",
       " (4,),\n",
       " (1, 2),\n",
       " (1, 3),\n",
       " (1, 4),\n",
       " (2, 3),\n",
       " (2, 4),\n",
       " (3, 4),\n",
       " (1, 2, 3),\n",
       " (1, 2, 4),\n",
       " (1, 3, 4),\n",
       " (2, 3, 4),\n",
       " (1, 2, 3, 4)]"
      ]
     },
     "execution_count": 33,
     "metadata": {},
     "output_type": "execute_result"
    }
   ],
   "source": [
    "from itertools import combinations\n",
    "\n",
    "def get_subsets3(myset):\n",
    "    for i in range(len(myset) + 1):\n",
    "        for c in combinations(myset, i):\n",
    "            yield c\n",
    "        \n",
    "list(get_subsets3([1, 2, 3, 4]))"
   ]
  },
  {
   "cell_type": "code",
   "execution_count": 38,
   "metadata": {},
   "outputs": [
    {
     "data": {
      "text/plain": [
       "[[],\n",
       " [1],\n",
       " [2],\n",
       " [2, 1],\n",
       " [3],\n",
       " [3, 1],\n",
       " [3, 2],\n",
       " [3, 2, 1],\n",
       " [4],\n",
       " [4, 1],\n",
       " [4, 2],\n",
       " [4, 2, 1],\n",
       " [4, 3],\n",
       " [4, 3, 1],\n",
       " [4, 3, 2],\n",
       " [4, 3, 2, 1]]"
      ]
     },
     "execution_count": 38,
     "metadata": {},
     "output_type": "execute_result"
    }
   ],
   "source": [
    "# depth first search\n",
    "\n",
    "def get_items4(myset):\n",
    "    if myset:\n",
    "        for subs in get_items4(myset[1:]):\n",
    "            yield subs\n",
    "            yield subs + myset[:1]\n",
    "    else:\n",
    "        yield []\n",
    "        \n",
    "list(get_items4([1, 2, 3, 4]))"
   ]
  },
  {
   "cell_type": "markdown",
   "metadata": {},
   "source": [
    "## Permutations\n",
    "\n",
    "$\\|P(S)\\| = \\|S\\|!$\n",
    "\n",
    "[Heap's algorithm](https://en.wikipedia.org/wiki/Heap%27s_algorithm)"
   ]
  },
  {
   "cell_type": "code",
   "execution_count": 47,
   "metadata": {},
   "outputs": [
    {
     "data": {
      "text/plain": [
       "[('a', 'b', 'c'),\n",
       " ('a', 'c', 'b'),\n",
       " ('b', 'a', 'c'),\n",
       " ('b', 'c', 'a'),\n",
       " ('c', 'a', 'b'),\n",
       " ('c', 'b', 'a')]"
      ]
     },
     "execution_count": 47,
     "metadata": {},
     "output_type": "execute_result"
    }
   ],
   "source": [
    "from itertools import permutations\n",
    "\n",
    "list(permutations('abc'))"
   ]
  },
  {
   "cell_type": "code",
   "execution_count": 58,
   "metadata": {},
   "outputs": [
    {
     "data": {
      "text/plain": [
       "[[1, 2, 3], [2, 1, 3], [3, 1, 2], [1, 3, 2], [2, 3, 1], [3, 2, 1]]"
      ]
     },
     "execution_count": 58,
     "metadata": {},
     "output_type": "execute_result"
    }
   ],
   "source": [
    "# Heap's algorithm: \n",
    "\n",
    "def swap(A, i, j):\n",
    "    k = A[i]\n",
    "    A[i] = A[j]\n",
    "    A[j] = k\n",
    "\n",
    "def generate(A):\n",
    "    c = [0] * len(A)\n",
    "    yield list(A)\n",
    "    i = 0\n",
    "    while i < len(A):\n",
    "        if  c[i] < i:\n",
    "            if i % 2 == 0:\n",
    "                swap(A, 0, i)\n",
    "            else:\n",
    "                swap(A, c[i], i)\n",
    "                \n",
    "            yield list(A)\n",
    "            c[i] += 1\n",
    "            i = 0\n",
    "        else:\n",
    "            c[i] = 0\n",
    "            i += 1\n",
    "\n",
    "list(generate([1, 2, 3]))"
   ]
  },
  {
   "cell_type": "markdown",
   "metadata": {},
   "source": [
    "### Let's apply to a problem of travelling salesman\n",
    "\n",
    "Assume there is a flight from every airport to every. You want to travel through all Serbian towns in the shortest possible way. Print the route, display it as map."
   ]
  },
  {
   "cell_type": "code",
   "execution_count": 120,
   "metadata": {},
   "outputs": [
    {
     "name": "stdout",
     "output_type": "stream",
     "text": [
      "Belgrade - Novi Sad 71.70635912259958\n"
     ]
    },
    {
     "data": {
      "image/png": "[encoded data removed]",
      "text/plain": [
       "<matplotlib.figure.Figure at 0x2875cd57358>"
      ]
     },
     "metadata": {},
     "output_type": "display_data"
    },
    {
     "data": {
      "image/png": "[encoded data removed]",
      "text/plain": [
       "<matplotlib.figure.Figure at 0x28760ae3e80>"
      ]
     },
     "metadata": {},
     "output_type": "display_data"
    }
   ],
   "source": [
    "import requests, json, time, csv, math\n",
    "import numpy as np\n",
    "import matplotlib.pyplot as plt\n",
    "\n",
    "def get_coordinates(place):\n",
    "    GET = \"https://geocode.xyz/{}?json=1\" \n",
    "    time.sleep(1)\n",
    "    json = requests.get(GET.format(place)).json()\n",
    "    ## dirty hack\n",
    "    if not 'latt' in json: return get_coordinates(place)\n",
    "    \n",
    "    y = json['longt']\n",
    "    x = json['latt']\n",
    "    return float(x), float(y)\n",
    "\n",
    "def distance(p1, p2):\n",
    "    R = 6373.0\n",
    "    lat1, lat2 = math.radians(p1[0]), math.radians(p2[0])\n",
    "    lon1, lon2 = math.radians(p1[0]), math.radians(p2[0])\n",
    "\n",
    "    dlon = lon1 - lon2\n",
    "    dlat = lat1 - lat2\n",
    "    a = math.sin(dlat / 2)**2 + math.cos(lat1) * math.cos(lat2) * math.sin(dlon / 2)**2\n",
    "    c = 2 * math.atan2(math.sqrt(a), math.sqrt(1 - a))\n",
    "    return R * c\n",
    "\n",
    "def get_airports(country):\n",
    "    with open('data/airports.dat.csv', 'r', encoding='utf-8') as f:\n",
    "        reader = csv.reader(f)\n",
    "        for row in reader:\n",
    "            city = row[2]\n",
    "            country_ = row[3]\n",
    "            lat = float(row[7])\n",
    "            lon = float(row[6])\n",
    "            if country == country_:\n",
    "                yield city, (lat, lon)\n",
    "\n",
    "A = dict((x, y) for x, y in get_airports('Serbia'))\n",
    "airports = list(A.keys())\n",
    "print(\"Belgrade - Novi Sad\", distance(A['Belgrade'], A['Novi Sad']))\n",
    "\n",
    "def build_dist_matrix(airports, A):\n",
    "    M = np.zeros((len(airports), len(airports)))\n",
    "    for a, b in product(range(M.shape[0]), range(M.shape[1])):\n",
    "        M[a, b] = distance(A[airports[a]], A[airports[b]])\n",
    "    return M\n",
    "\n",
    "M = build_dist_matrix(airports, A)      \n",
    "plt.imshow(M)\n",
    "plt.show()\n",
    "#################################################################\n",
    "\n",
    "def get_shortest(M):\n",
    "    \n",
    "    # todo write your code here\n",
    "    \n",
    "    return [0, 1, 2, 3, 4, 5]\n",
    "\n",
    "for txt in airports:\n",
    "    plt.scatter(*A[txt])\n",
    "    plt.annotate(txt, A[txt])\n",
    "\n",
    "chain = np.matrix([A[airports[i]] for i in get_shortest(M)])    \n",
    "plt.plot(chain[:, 0], chain[:, 1])\n",
    "    \n",
    "plt.show()"
   ]
  },
  {
   "cell_type": "markdown",
   "metadata": {},
   "source": [
    "## All arrangements with repetitions\n",
    "\n",
    "Order is important for passwords. Implement password generation for an alphabet in recursive form."
   ]
  },
  {
   "cell_type": "code",
   "execution_count": null,
   "metadata": {},
   "outputs": [],
   "source": [
    "def get_passwords(alphabet, len):\n",
    "    # TODO write your code\n",
    "    yield alphabet[:2]\n",
    "\n",
    "assert set(get_passwords('abc', 2)) == {'aa', 'ab', 'ac', 'bc', 'ba', 'bb', 'ca', 'cb', 'cc'}"
   ]
  },
  {
   "cell_type": "code",
   "execution_count": 45,
   "metadata": {},
   "outputs": [
    {
     "data": {
      "text/plain": [
       "[('a', 'a'),\n",
       " ('a', 'b'),\n",
       " ('a', 'c'),\n",
       " ('b', 'a'),\n",
       " ('b', 'b'),\n",
       " ('b', 'c'),\n",
       " ('c', 'a'),\n",
       " ('c', 'b'),\n",
       " ('c', 'c')]"
      ]
     },
     "execution_count": 45,
     "metadata": {},
     "output_type": "execute_result"
    }
   ],
   "source": [
    "from itertools import product\n",
    "list(product('abc', repeat=2))"
   ]
  },
  {
   "cell_type": "markdown",
   "metadata": {},
   "source": [
    "## Grid search\n",
    "\n",
    "Very often in numerical analysis we want to find an optimal value of a function, defined on multiple dimensions."
   ]
  },
  {
   "cell_type": "code",
   "execution_count": 62,
   "metadata": {},
   "outputs": [
    {
     "name": "stdout",
     "output_type": "stream",
     "text": [
      "((2.929292929292929, -5.959595959595959), 0.00663197632894608)\n"
     ]
    }
   ],
   "source": [
    "import numpy as np\n",
    "from itertools import product\n",
    "\n",
    "\n",
    "X = np.linspace(-10, 10, 100)\n",
    "Y = np.linspace(-10, 10, 100)\n",
    "\n",
    "def f(x, y):\n",
    "    return (x - 3) ** 2 + (y + 6) ** 2\n",
    "\n",
    "def get_min(arrays, func):\n",
    "    minimum, minargs = None, None\n",
    "    for p in product(*arrays):\n",
    "        v = func(*p)\n",
    "        if minimum is None or minimum > v:\n",
    "            minimum = v\n",
    "            minargs = p\n",
    "    return minargs, minimum\n",
    "\n",
    "print(get_min([X, Y], f))"
   ]
  },
  {
   "cell_type": "code",
   "execution_count": 68,
   "metadata": {},
   "outputs": [
    {
     "data": {
      "text/plain": [
       "array([ 3.00002824, -5.99996496])"
      ]
     },
     "execution_count": 68,
     "metadata": {},
     "output_type": "execute_result"
    }
   ],
   "source": [
    "# https://stackoverflow.com/questions/13370570/elegant-grid-search-in-python-numpy\n",
    "\n",
    "from scipy.optimize import brute\n",
    "\n",
    "def f2(x, *args):\n",
    "    return f(*x)\n",
    "\n",
    "brute(f2, [(-10, 10), (-10, 10)], Ns = 100)"
   ]
  }
 ],
 "metadata": {
  "kernelspec": {
   "display_name": "Python 3",
   "language": "python",
   "name": "python3"
  },
  "language_info": {
   "codemirror_mode": {
    "name": "ipython",
    "version": 3
   },
   "file_extension": ".py",
   "mimetype": "text/x-python",
   "name": "python",
   "nbconvert_exporter": "python",
   "pygments_lexer": "ipython3",
   "version": "3.7.4"
  }
 },
 "nbformat": 4,
 "nbformat_minor": 4
}
