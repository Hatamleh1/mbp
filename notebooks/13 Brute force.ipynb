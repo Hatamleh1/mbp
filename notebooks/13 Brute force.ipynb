{
 "cells": [
  {
   "cell_type": "markdown",
   "metadata": {},
   "source": [
    "Combinatorial optimization - Finding optimal (for some metric) element of a finite set.\n",
    "\n",
    "# Brute force methods\n",
    "\n",
    "Sometimes there is no other way rather than to a brute force search. Typical problematic statements - different combinatorial problems."
   ]
  },
  {
   "cell_type": "markdown",
   "metadata": {},
   "source": [
    "## All subsets\n",
    "\n",
    "$\\huge \\|2^A\\|=2^{\\|A\\|}$\n",
    "\n",
    "There is a function defined on a set. We need to find an optimal set within a limited domain. E.g. knapsack packing. Find a subset of elements with the biggest sum which fits into parameters."
   ]
  },
  {
   "cell_type": "code",
   "execution_count": 6,
   "metadata": {},
   "outputs": [
    {
     "data": {
      "text/plain": [
       "[[], ['a'], ['b'], ['a', 'b'], ['c'], ['a', 'c'], ['b', 'c'], ['a', 'b', 'c']]"
      ]
     },
     "execution_count": 6,
     "metadata": {},
     "output_type": "execute_result"
    }
   ],
   "source": [
    "def get_subsets(myset):\n",
    "    for i in range(2 ** len(myset)):\n",
    "        s = []\n",
    "        cpi = i\n",
    "        for j in range(len(myset)):\n",
    "            if cpi % 2 == 1:\n",
    "                s.append(myset[j])\n",
    "            cpi >>= 1\n",
    "        yield s\n",
    "    \n",
    "list(get_subsets('abc'))"
   ]
  },
  {
   "cell_type": "code",
   "execution_count": 7,
   "metadata": {},
   "outputs": [
    {
     "name": "stdout",
     "output_type": "stream",
     "text": [
      "Collecting bitsets\n",
      "  Downloading https://files.pythonhosted.org/packages/f8/03/2f11f242ba0f86860655e246f795bcd3a5601c23961d510458ba3de7da15/bitsets-0.7.16-py2.py3-none-any.whl\n",
      "Installing collected packages: bitsets\n",
      "Successfully installed bitsets-0.7.16\n"
     ]
    }
   ],
   "source": [
    "!pip install bitsets"
   ]
  },
  {
   "cell_type": "code",
   "execution_count": 17,
   "metadata": {},
   "outputs": [
    {
     "data": {
      "text/plain": [
       "[MySet(),\n",
       " MySet([1]),\n",
       " MySet([2]),\n",
       " MySet([3]),\n",
       " MySet([4]),\n",
       " MySet([1, 2]),\n",
       " MySet([1, 3]),\n",
       " MySet([1, 4]),\n",
       " MySet([2, 3]),\n",
       " MySet([2, 4]),\n",
       " MySet([3, 4]),\n",
       " MySet([1, 2, 3]),\n",
       " MySet([1, 2, 4]),\n",
       " MySet([1, 3, 4]),\n",
       " MySet([2, 3, 4]),\n",
       " MySet([1, 2, 3, 4])]"
      ]
     },
     "execution_count": 17,
     "metadata": {},
     "output_type": "execute_result"
    }
   ],
   "source": [
    "from bitsets import bitset\n",
    "\n",
    "def get_subsets2(myset):\n",
    "    MySet = bitset('MySet', myset)\n",
    "    return MySet.supremum.powerset()\n",
    "\n",
    "list(get_subsets2((1, 2, 3, 4)))"
   ]
  },
  {
   "cell_type": "code",
   "execution_count": 33,
   "metadata": {},
   "outputs": [
    {
     "data": {
      "text/plain": [
       "[(),\n",
       " (1,),\n",
       " (2,),\n",
       " (3,),\n",
       " (4,),\n",
       " (1, 2),\n",
       " (1, 3),\n",
       " (1, 4),\n",
       " (2, 3),\n",
       " (2, 4),\n",
       " (3, 4),\n",
       " (1, 2, 3),\n",
       " (1, 2, 4),\n",
       " (1, 3, 4),\n",
       " (2, 3, 4),\n",
       " (1, 2, 3, 4)]"
      ]
     },
     "execution_count": 33,
     "metadata": {},
     "output_type": "execute_result"
    }
   ],
   "source": [
    "from itertools import combinations\n",
    "\n",
    "def get_subsets3(myset):\n",
    "    for i in range(len(myset) + 1):\n",
    "        for c in combinations(myset, i):\n",
    "            yield c\n",
    "        \n",
    "list(get_subsets3([1, 2, 3, 4]))"
   ]
  },
  {
   "cell_type": "code",
   "execution_count": 38,
   "metadata": {},
   "outputs": [
    {
     "data": {
      "text/plain": [
       "[[],\n",
       " [1],\n",
       " [2],\n",
       " [2, 1],\n",
       " [3],\n",
       " [3, 1],\n",
       " [3, 2],\n",
       " [3, 2, 1],\n",
       " [4],\n",
       " [4, 1],\n",
       " [4, 2],\n",
       " [4, 2, 1],\n",
       " [4, 3],\n",
       " [4, 3, 1],\n",
       " [4, 3, 2],\n",
       " [4, 3, 2, 1]]"
      ]
     },
     "execution_count": 38,
     "metadata": {},
     "output_type": "execute_result"
    }
   ],
   "source": [
    "# depth first search\n",
    "\n",
    "def get_items4(myset):\n",
    "    if myset:\n",
    "        for subs in get_items4(myset[1:]):\n",
    "            yield subs\n",
    "            yield subs + myset[:1]\n",
    "    else:\n",
    "        yield []\n",
    "        \n",
    "list(get_items4([1, 2, 3, 4]))"
   ]
  },
  {
   "cell_type": "markdown",
   "metadata": {},
   "source": [
    "## Permutations\n",
    "\n",
    "$\\|P(S)\\| = \\|S\\|!$\n",
    "\n",
    "[Heap's algorithm](https://en.wikipedia.org/wiki/Heap%27s_algorithm)"
   ]
  },
  {
   "cell_type": "code",
   "execution_count": 47,
   "metadata": {},
   "outputs": [
    {
     "data": {
      "text/plain": [
       "[('a', 'b', 'c'),\n",
       " ('a', 'c', 'b'),\n",
       " ('b', 'a', 'c'),\n",
       " ('b', 'c', 'a'),\n",
       " ('c', 'a', 'b'),\n",
       " ('c', 'b', 'a')]"
      ]
     },
     "execution_count": 47,
     "metadata": {},
     "output_type": "execute_result"
    }
   ],
   "source": [
    "from itertools import permutations\n",
    "\n",
    "list(permutations('abc'))"
   ]
  },
  {
   "cell_type": "code",
   "execution_count": 58,
   "metadata": {},
   "outputs": [
    {
     "data": {
      "text/plain": [
       "[[1, 2, 3], [2, 1, 3], [3, 1, 2], [1, 3, 2], [2, 3, 1], [3, 2, 1]]"
      ]
     },
     "execution_count": 58,
     "metadata": {},
     "output_type": "execute_result"
    }
   ],
   "source": [
    "# Heap's algorithm: \n",
    "\n",
    "def swap(A, i, j):\n",
    "    k = A[i]\n",
    "    A[i] = A[j]\n",
    "    A[j] = k\n",
    "\n",
    "def generate(A):\n",
    "    c = [0] * len(A)\n",
    "    yield list(A)\n",
    "    i = 0\n",
    "    while i < len(A):\n",
    "        if  c[i] < i:\n",
    "            if i % 2 == 0:\n",
    "                swap(A, 0, i)\n",
    "            else:\n",
    "                swap(A, c[i], i)\n",
    "                \n",
    "            yield list(A)\n",
    "            c[i] += 1\n",
    "            i = 0\n",
    "        else:\n",
    "            c[i] = 0\n",
    "            i += 1\n",
    "\n",
    "list(generate([1, 2, 3]))"
   ]
  },
  {
   "cell_type": "markdown",
   "metadata": {},
   "source": [
    "## All arrangements with repetitions\n",
    "\n",
    "Order is important for passwords. Implement password generation for an alphabet in recursive form."
   ]
  },
  {
   "cell_type": "code",
   "execution_count": null,
   "metadata": {},
   "outputs": [],
   "source": [
    "def get_passwords(alphabet, len):\n",
    "    # TODO write your code\n",
    "    yield alphabet[:2]\n",
    "\n",
    "assert set(get_passwords('abc', 2)) == {'aa', 'ab', 'ac', 'bc', 'ba', 'bb', 'ca', 'cb', 'cc'}"
   ]
  },
  {
   "cell_type": "code",
   "execution_count": 45,
   "metadata": {},
   "outputs": [
    {
     "data": {
      "text/plain": [
       "[('a', 'a'),\n",
       " ('a', 'b'),\n",
       " ('a', 'c'),\n",
       " ('b', 'a'),\n",
       " ('b', 'b'),\n",
       " ('b', 'c'),\n",
       " ('c', 'a'),\n",
       " ('c', 'b'),\n",
       " ('c', 'c')]"
      ]
     },
     "execution_count": 45,
     "metadata": {},
     "output_type": "execute_result"
    }
   ],
   "source": [
    "from itertools import product\n",
    "list(product('abc', repeat=2))"
   ]
  },
  {
   "cell_type": "markdown",
   "metadata": {},
   "source": [
    "## Grid search\n",
    "\n",
    "Very often in numerical analysis we want to find an optimal value of a function, defined on multiple dimensions."
   ]
  },
  {
   "cell_type": "code",
   "execution_count": 62,
   "metadata": {},
   "outputs": [
    {
     "name": "stdout",
     "output_type": "stream",
     "text": [
      "((2.929292929292929, -5.959595959595959), 0.00663197632894608)\n"
     ]
    }
   ],
   "source": [
    "import numpy as np\n",
    "from itertools import product\n",
    "\n",
    "\n",
    "X = np.linspace(-10, 10, 100)\n",
    "Y = np.linspace(-10, 10, 100)\n",
    "\n",
    "def f(x, y):\n",
    "    return (x - 3) ** 2 + (y + 6) ** 2\n",
    "\n",
    "def get_min(arrays, func):\n",
    "    minimum, minargs = None, None\n",
    "    for p in product(*arrays):\n",
    "        v = func(*p)\n",
    "        if minimum is None or minimum > v:\n",
    "            minimum = v\n",
    "            minargs = p\n",
    "    return minargs, minimum\n",
    "\n",
    "print(get_min([X, Y], f))"
   ]
  },
  {
   "cell_type": "code",
   "execution_count": 68,
   "metadata": {},
   "outputs": [
    {
     "data": {
      "text/plain": [
       "array([ 3.00002824, -5.99996496])"
      ]
     },
     "execution_count": 68,
     "metadata": {},
     "output_type": "execute_result"
    }
   ],
   "source": [
    "# https://stackoverflow.com/questions/13370570/elegant-grid-search-in-python-numpy\n",
    "\n",
    "from scipy.optimize import brute\n",
    "\n",
    "def f2(x, *args):\n",
    "    return f(*x)\n",
    "\n",
    "brute(f2, [(-10, 10), (-10, 10)], Ns = 100)"
   ]
  }
 ],
 "metadata": {
  "kernelspec": {
   "display_name": "Python 3",
   "language": "python",
   "name": "python3"
  },
  "language_info": {
   "codemirror_mode": {
    "name": "ipython",
    "version": 3
   },
   "file_extension": ".py",
   "mimetype": "text/x-python",
   "name": "python",
   "nbconvert_exporter": "python",
   "pygments_lexer": "ipython3",
   "version": "3.6.3"
  }
 },
 "nbformat": 4,
 "nbformat_minor": 4
}
