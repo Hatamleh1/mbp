{
 "cells": [
  {
   "cell_type": "markdown",
   "metadata": {},
   "source": [
    "# Knapsack problem\n",
    "\n",
    "![](https://upload.wikimedia.org/wikipedia/commons/thumb/f/fd/Knapsack.svg/1200px-Knapsack.svg.png)"
   ]
  },
  {
   "cell_type": "code",
   "execution_count": 9,
   "metadata": {},
   "outputs": [
    {
     "name": "stdout",
     "output_type": "stream",
     "text": [
      "[(1, 1.1), (2, 2.0)]\n"
     ]
    }
   ],
   "source": [
    "def visit(b):\n",
    "    return sum(i[0] for i in b), sum(i[1] for i in b)\n",
    "\n",
    "def depth_search(loot, bag, depth):\n",
    "    global nodes_count, best\n",
    "    nodes_count += 1\n",
    "    if depth == len(loot):\n",
    "        w, c = visit(bag)\n",
    "        wb, cb = visit(best)\n",
    "        if c > cb and w <= limit:\n",
    "            best = list(bag)\n",
    "    else:   \n",
    "        depth_search(loot, bag, depth + 1)\n",
    "        bag = bag + [loot[depth]]\n",
    "        depth_search(loot, bag, depth + 1)\n",
    "\n",
    "\n",
    "nodes_count = 0\n",
    "best = []\n",
    "limit = 3\n",
    "bag = [\n",
    "    (1, 1.1),    # $, w\n",
    "    (2, 2.)   # $, w\n",
    "]\n",
    "depth_search([], bag, 0)\n",
    "print(best)"
   ]
  },
  {
   "cell_type": "code",
   "execution_count": null,
   "metadata": {},
   "outputs": [],
   "source": [
    "def visit(b):\n",
    "    return sum(i[0] for i in b), sum(i[1] for i in b)\n",
    "\n",
    "def depth_search(loot, bag, depth):\n",
    "    global nodes_count, best\n",
    "    nodes_count += 1\n",
    "    if depth == len(loot):\n",
    "        w, c = visit(bag)\n",
    "        wb, cb = visit(best)\n",
    "        if c > cb and w <= limit:\n",
    "            best = list(bag)\n",
    "    else:   \n",
    "        depth_search(loot, bag, depth + 1)\n",
    "        bag = bag + [loot[depth]]\n",
    "        w, c = visit(bag)\n",
    "        if w > limit: return          # optimization 1\n",
    "        # optimization 2: branch-and-bound, require sorted loot\n",
    "        if c + (limit - w) / bag[-1][0] * bag[-1][1] <= visit(best)[1]: return\n",
    "        depth_search(loot, bag, depth + 1)\n"
   ]
  }
 ],
 "metadata": {
  "kernelspec": {
   "display_name": "Python 3",
   "language": "python",
   "name": "python3"
  },
  "language_info": {
   "codemirror_mode": {
    "name": "ipython",
    "version": 3
   },
   "file_extension": ".py",
   "mimetype": "text/x-python",
   "name": "python",
   "nbconvert_exporter": "python",
   "pygments_lexer": "ipython3",
   "version": "3.7.4"
  }
 },
 "nbformat": 4,
 "nbformat_minor": 4
}
