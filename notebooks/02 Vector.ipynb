{
 "cells": [
  {
   "cell_type": "markdown",
   "metadata": {},
   "source": [
    "# Vector as an object\n",
    "\n",
    "Objects in real world can modelled with numbers and categories: age, weight, gender, name (one of categories) - for a person. Max speed, weight, color (one of) - for a car.\n",
    "\n",
    "In progamming we use records, classes and structures to encode those properties. But almost every property falls into one of 4 categories:\n",
    "- $\\mathbb{R}$ - real values (distance)\n",
    "- $\\mathbb{Z}$ - integer ordered values (school grade)\n",
    "- binary $\\mathbb{B}$ features (yes/no)\n",
    "- category or categories from an unordered set. Here we use [one-hot encoding](https://en.wikipedia.org/wiki/One-hot) (e.g. names, tags).\n",
    "\n",
    "Vector $v$ is an ordered collection of values.\n",
    "\n",
    "N-dimensional vector: $v\\in \\mathbb{R}^N$ is written as:\n",
    "\n",
    "$\\vec{a} = \\begin{bmatrix} a_1  \\\\ a_2 \\\\ ... \\\\ a_N \\end{bmatrix}$\n",
    "\n",
    "or to simplify: $a = (a_1, a_2, ..., a_N)^T$.\n",
    "\n",
    "In python you can use `list`, `tuple` of `np.ndarray`.\n",
    "\n",
    "## Vector space\n",
    "\n",
    "Vectors can be added, multiplied to a number.\n",
    "\n",
    "$\\begin{bmatrix} 1  \\\\ 2 \\\\ 3 \\end{bmatrix} + \\begin{bmatrix} 3  \\\\ 4.01 \\\\ 2 \\end{bmatrix} = \\begin{bmatrix} 4  \\\\ 6.01 \\\\ 5 \\end{bmatrix}$\n",
    "\n",
    "$2 * \\begin{bmatrix} 1  \\\\ 2 \\\\ 3 \\end{bmatrix} = \\begin{bmatrix} 2  \\\\ 4 \\\\ 6 \\end{bmatrix}$\n",
    "\n"
   ]
  },
  {
   "cell_type": "code",
   "execution_count": 55,
   "metadata": {},
   "outputs": [
    {
     "name": "stdout",
     "output_type": "stream",
     "text": [
      "[0.0, 0.0, 0.0, 0.0, 1.0, 32.0, 0.0, 1.0, 0.0, 0.0, 105.0, 1.0, 2.0]\n"
     ]
    }
   ],
   "source": [
    "performances = ['bad', 'average', 'good', 'excellent']\n",
    "names = ['Xenia', 'Bob', 'John', 'Mary', 'Stas']\n",
    "achievements = ['sports', 'music', 'arts', 'math']\n",
    "\n",
    "class Student:\n",
    "    def __init__(self, name, age, ach, weight, gender, performance):\n",
    "        self.name = name\n",
    "        self.age = age\n",
    "        self.ach = ach\n",
    "        self.weight = weight\n",
    "        self.gender = gender\n",
    "        self.performance = performance\n",
    "    \n",
    "    def to_vector(self):\n",
    "        vector = []\n",
    "        \n",
    "        vector += [float(n == self.name) for n in names]\n",
    "        \n",
    "        # Z\n",
    "        vector.append(float(self.age))\n",
    "        # one-hot*\n",
    "        for a in achievements:\n",
    "            vector.append(float(a in self.ach))\n",
    "        # R\n",
    "        vector.append(self.weight)        \n",
    "        # binary\n",
    "        vector.append(float(self.gender == 'male'))\n",
    "        # one-hot\n",
    "        vector.append(float(performances.index(self.performance)))\n",
    "\n",
    "        \n",
    "        return vector\n",
    "    \n",
    "stas = Student('Stas', 32, {'music'}, 105.0, 'male', 'good').to_vector()\n",
    "print(stas)"
   ]
  },
  {
   "cell_type": "code",
   "execution_count": 56,
   "metadata": {},
   "outputs": [
    {
     "name": "stdout",
     "output_type": "stream",
     "text": [
      "[0.0, 0.0, 0.0, 0.0, 0.0, 0.0, 0.0, 0.0, 0.0, 0.0, 0.0, 0.0, 0.0]\n"
     ]
    }
   ],
   "source": [
    "# TODO: add your name to the list and encode yourself. Is your vector similar to my?\n",
    "\n",
    "me = Student('', 0, {}, 0.0, 'female', 'bad').to_vector()\n",
    "print(me)"
   ]
  },
  {
   "cell_type": "code",
   "execution_count": 57,
   "metadata": {},
   "outputs": [
    {
     "name": "stdout",
     "output_type": "stream",
     "text": [
      "[  0.   0.   0.   0.   1.  33.   0.   1.   0.   0. 105.   1.   2.]\n"
     ]
    }
   ],
   "source": [
    "# Assume, you became older for 1 year. This change can be encoded with a vector:\n",
    "\n",
    "grow_older = [0, 0, 0, 0, 0, 1, 0, 0, 0, 0, 0, 0, 0]\n",
    "\n",
    "import numpy as np\n",
    "\n",
    "stas_n = np.asarray(stas)\n",
    "older_n = np.asarray(grow_older)\n",
    "\n",
    "new_stas_n = stas_n + older_n\n",
    "print(new_stas_n)"
   ]
  },
  {
   "cell_type": "markdown",
   "metadata": {},
   "source": [
    "# Eucliedean distance"
   ]
  },
  {
   "cell_type": "markdown",
   "metadata": {},
   "source": [
    "$\\begin{align}   \n",
    "    dist(u, v) = \\sqrt{\\sum_{i=1}^N (u_i - v_i)^2}\n",
    "\\end{align}$"
   ]
  },
  {
   "cell_type": "code",
   "execution_count": 58,
   "metadata": {},
   "outputs": [
    {
     "data": {
      "image/png": "[encoded data removed]",
      "text/plain": [
       "<Figure size 432x288 with 1 Axes>"
      ]
     },
     "metadata": {
      "needs_background": "light"
     },
     "output_type": "display_data"
    }
   ],
   "source": [
    "import matplotlib.pyplot as plt\n",
    "\n",
    "plt.axhline(y=0, color=\"black\", linestyle=\"--\")\n",
    "plt.axvline(color=\"red\", linestyle=':')\n",
    "\n",
    "u = [-1., -3]\n",
    "v = [4., 7.]\n",
    "t = [5., 6.]\n",
    "w = [0.4, 0.7]\n",
    "\n",
    "plt.plot(*u, marker='*')\n",
    "plt.plot(*v, marker='o')\n",
    "plt.plot(*t, marker='^')\n",
    "plt.plot(*w, marker='v')\n",
    "plt.show()"
   ]
  },
  {
   "cell_type": "code",
   "execution_count": 59,
   "metadata": {},
   "outputs": [
    {
     "name": "stdout",
     "output_type": "stream",
     "text": [
      "How similar am I to Stas: None\n"
     ]
    }
   ],
   "source": [
    "# TODO: write the code of euclidean distance\n",
    "\n",
    "def dist(u, v):\n",
    "    # write your code here\n",
    "    return None\n",
    "\n",
    "print(f\"How similar am I to Stas: {dist(stas, me)}\")"
   ]
  },
  {
   "cell_type": "markdown",
   "metadata": {},
   "source": [
    "# Feature normalization\n",
    "Similarity in the example is mostly defined by `weight` and `age` values. In practice we do feature normalization: bringing values to the same interval, usually $(0, 1)$ or $(-1, 1)$."
   ]
  },
  {
   "cell_type": "code",
   "execution_count": 60,
   "metadata": {},
   "outputs": [
    {
     "name": "stdout",
     "output_type": "stream",
     "text": [
      "[0.0, 0.0, 0.0, 0.0, 1.0, 32.0, 0.0, 1.0, 0.0, 0.0, 105.0, 1.0, 2.0]\n",
      "How similar am I to Stas: None\n"
     ]
    }
   ],
   "source": [
    "# TODO write the code that normalizes the data to 0..1\n",
    "\n",
    "def normalize(v):\n",
    "    # age - [5], 0..120 \n",
    "    # weight - [10], 30..180\n",
    "    # performance [12] - 0..3\n",
    "    v2 = v.copy()\n",
    "    return v2\n",
    "\n",
    "print(normalize(stas))\n",
    "print(f\"How similar am I to Stas: {dist(normalize(stas), normalize(me))}\")"
   ]
  },
  {
   "cell_type": "markdown",
   "metadata": {},
   "source": [
    "# Vector norm\n",
    "\n",
    "**Norm** $\\| x\\|$ - is a function which preserves the [triangle inequality](https://en.wikipedia.org/wiki/Triangle_inequality).\n",
    "\n",
    "$\\|\\mathbf {x} +\\mathbf {y} \\|\\leq \\|\\mathbf {x} \\|+\\|\\mathbf {y} \\|$\n",
    "\n",
    "Widely used norm format for vectors is $L_p$ norm:\n",
    "\n",
    "$\\|\\mathbf{x}\\|_p=\\left(\\sum_i|x_i|^p\\right)^{\\frac{1}{p}}$\n",
    "\n",
    "**Circle** is \n",
    "\n",
    "$C = \\{x\\in \\mathbb{R}^N: \\|x-center\\|_p = r\\}$\n"
   ]
  },
  {
   "cell_type": "code",
   "execution_count": 63,
   "metadata": {},
   "outputs": [
    {
     "data": {
      "image/png": "[encoded data removed]",
      "text/plain": [
       "<Figure size 720x720 with 1 Axes>"
      ]
     },
     "metadata": {
      "needs_background": "light"
     },
     "output_type": "display_data"
    }
   ],
   "source": [
    "#TODO: \n",
    "# 2d case. for a given norm order find y values for a circle for a given x\n",
    "\n",
    "def y2(x, radius, center):\n",
    "    d = radius ** 2 - (x - center[0]) ** 2\n",
    "    if d > 0:\n",
    "        return [-d ** .5 + center[1], +d ** .5 + center[1]]\n",
    "    else:\n",
    "        return []\n",
    "\n",
    "def y(x, radius, center, norm=2):\n",
    "    # write your code here\n",
    "    pass\n",
    "\n",
    "\n",
    "center = [5, 6]\n",
    "radius = 2\n",
    "\n",
    "plt.figure(figsize=(10, 10))\n",
    "for x in np.linspace(center[0] - radius, center[0] + radius, num=100):\n",
    "    ys = y2(x, radius, center)\n",
    "    for y in ys:\n",
    "        plt.plot(x, y, marker='.')\n",
    "plt.show()\n",
    "\n",
    "\n",
    "plt.figure(figsize=(10, 10))\n",
    "for x in np.linspace(center[0] - radius, center[0] + radius, num=100):\n",
    "    ys = y(x, radius, center, norm=5)\n",
    "    for y in ys:\n",
    "        plt.plot(x, y, marker='.')\n",
    "plt.show()"
   ]
  },
  {
   "cell_type": "markdown",
   "metadata": {},
   "source": [
    "Hence,\n",
    "\n",
    "$\\|x\\|_\\infty=max|x_i|$\n",
    "\n",
    "\n",
    "## Norming a vector\n",
    "\n",
    "Is a procedure like this:\n",
    "\n",
    "$\\vec{u} = \\frac{\\vec{v}}{\\|\\vec{v}\\|}$"
   ]
  },
  {
   "cell_type": "markdown",
   "metadata": {},
   "source": [
    "# Dot product and cosine \n",
    "\n",
    "Normed vector loses it's amplidute, and keeps only \"direction\". This property is often used when we want to compare similarity in ideas rather than in scale.\n",
    "\n",
    "## dot product\n",
    "\n",
    "$\\vec{a}\\cdot\\vec{b}=\\sum_{i=1}^N a_i b_i$\n",
    "\n",
    "$\\begin{bmatrix} 1  \\\\ 2 \\\\ 3 \\end{bmatrix}\\cdot \\begin{bmatrix} 4  \\\\ 5 \\\\ -6 \\end{bmatrix} = 1 * 4 + 2 * 5 + 3 * (-6) = -4$\n",
    "\n",
    "\n",
    "## cosine\n",
    "\n",
    "$cos(\\angle\\vec{a},\\vec{b}) = \\frac{\\vec{a}\\cdot\\vec{b}}{\\|\\vec{a}\\|\\cdot\\|\\vec{b}\\|}$"
   ]
  },
  {
   "cell_type": "code",
   "execution_count": 65,
   "metadata": {},
   "outputs": [
    {
     "name": "stdout",
     "output_type": "stream",
     "text": [
      "None\n",
      "None\n"
     ]
    }
   ],
   "source": [
    "# todo: implement cosine function and test that it is working\n",
    "# answer should be (a,b): sqrt(2)/2 ~ 0.7, (u,v) = 0.0\n",
    "\n",
    "def cos(a, b):\n",
    "    pass\n",
    "\n",
    "a = [20, 0]\n",
    "b = [.1, .1]\n",
    "print(cos(a, b))\n",
    "\n",
    "u, v = [5, 5], [-6, 6]\n",
    "print(cos(u, v))"
   ]
  },
  {
   "cell_type": "markdown",
   "metadata": {},
   "source": [
    "## Cosine similarity and distance\n",
    "**Similarity** is closer to 0 when arguments are less similar.\n",
    "\n",
    "**Distance** is closer to 0 when arguments are more similar.\n",
    "\n",
    "**Cosine** between vector and itself is 1, and 0 for orthogonal vectors.\n",
    "\n",
    "$cosineSimilarity = cos(a, b)$\n",
    "\n",
    "$cosineDistance = 1-cos(a, b)$\n"
   ]
  },
  {
   "cell_type": "markdown",
   "metadata": {},
   "source": [
    "# RMSE"
   ]
  },
  {
   "cell_type": "code",
   "execution_count": null,
   "metadata": {},
   "outputs": [],
   "source": [
    "https://docs.google.com/document/d/1z65VsK6_hEhIh24fRYyLq3utXP2LiSaA5fi9NntZngY/edit"
   ]
  },
  {
   "cell_type": "markdown",
   "metadata": {},
   "source": [
    "Вектор как кортеж. По большому счёту, любая well-defined функция это вектор-вектор. И мы исследуем пространства определения, значения, свойства самих функций и как аналитические так и вычислительные. Мы обсудили харатеристики вычислительные, а теперь обсудим вещи, связанные с самим решениям.\n",
    "\n",
    "На доске: Закодируем что-нибудь. Спортивные успехи: скорость бега 100м, жим лёжа и время в планке двух человек. И вычтем. И посмотрим - если 0, разницы нет, если величина - насколько выражена. \n",
    "\n",
    "\n",
    "Рассказать про нормализацию  [приведение к приемлемому - log, 1/n]\n",
    "\n",
    "Векторы живут не просто в множествах, а на разных структурах (алгебрах, полях, многообразиях, группах): множествах, с наложенных на них ограничениями. Например, Евклидово пространство - это Rn (носитель); операции сложения друг с другом и умножения на число — скаляр; скалярное произведение. \n",
    "Вектор - это точка в пространстве Rn. \n",
    "\n",
    "Норма - числовая характеристика, неотрицательная, подчинённая правилу треугольника. Для векторов норма выражается вот так:  \n",
    "окружность с радиусом 1 и центром в начале координат - это все вектора с нормой 1. Нормирование - приведение вектора “к длине 1” - деление на норму покомпонентно.\n",
    "\n",
    "Интерактив на доске. Запишите явный вид L1-L3 норм, решите относительно x y=f(x). Нарисуйте единичные окружности для L1-L3 нормы в R2. Для этого постройте график функции (1-x^n)^(1/n). Он красивый.\n",
    "\n",
    "Ln. \n",
    "L1 - окрестность Фон Неймана\n",
    "Linf - окрестность (расстояние) ЧебышЁва.\n",
    "\n",
    "Норма манхэттенских кварталов. Задавание окрестностей (сфера, шар) в фильтрах в обработке изображений. Выбор нормы зависит от смысла пространства, в котором мы действуем. Например, если есть воксели, длина кривой или прямой может быть посчитана на L2, но для связного маршрута роботу нужна 4-связность, а значит и длина маршрута в L1.\n",
    "\n",
    "Скалярное произведение (dot product). На себя - квадрат L2-нормы. Если не на себя - длины на косинус угла между ними. Косинусная близость или косинусное расстояние. Собственно, косинус для угла между векторами вводится как. Ортогональность - это (a, b) =  = 0\n",
    "\n",
    "\n",
    "Интерактив [code test]. - Задача “Скалярное произведение”.\n",
    "Найдите угол между 2 точками в 3-мерном евклидовом пространстве. \n",
    "Напишите код (dot(double* a, double* b, size_t n), angle())\n",
    "А теперь у нас есть (1) углы (2) расстояния (нормы). Получили полярные координаты!\n",
    "\n",
    "Часто решение какой-то задачи является не точным. Численные методы, машинное обучение. Поэтому оценка отклонения вычисления измеряется одним из 2 способов:\n",
    "Как средняя норма(*) ошибки - RMSE - если результат это список.\n",
    "Как отклонение от ожидаемого результата - cosine similarity - если результат одиночный.\n",
    "\n",
    "Интерактив [code test]. Подберите коэффициенты функции (решите обратную задачу) минимизировав ошибку RMSE и average cosine.\n"
   ]
  }
 ],
 "metadata": {
  "kernelspec": {
   "display_name": "Python 3",
   "language": "python",
   "name": "python3"
  },
  "language_info": {
   "codemirror_mode": {
    "name": "ipython",
    "version": 3
   },
   "file_extension": ".py",
   "mimetype": "text/x-python",
   "name": "python",
   "nbconvert_exporter": "python",
   "pygments_lexer": "ipython3",
   "version": "3.7.4"
  }
 },
 "nbformat": 4,
 "nbformat_minor": 4
}
