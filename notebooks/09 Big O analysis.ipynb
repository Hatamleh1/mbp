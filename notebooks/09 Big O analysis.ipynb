{
 "cells": [
  {
   "cell_type": "markdown",
   "metadata": {},
   "source": [
    "# Big O notation\n",
    "\n",
    "![](https://imgs.xkcd.com/comics/travelling_salesman_problem.png)\n",
    "\n",
    "Is there difference between $T_1(N) = N^2 + 800$ and $T_2(N) = 12 * N^2 + 10*N - 4$?\n",
    "\n",
    "What if I say that computer running $T_2$ is 20 times faster?"
   ]
  },
  {
   "cell_type": "markdown",
   "metadata": {},
   "source": [
    "## Big O and Omega\n",
    "<span style=\"color:red\">Informally</span>, $\\mathcal{O}(g(x))$ is a set of functions, which are similar in **growth speed**. We write $f(x)\\in\\mathcal{O}(g(x))$ if $f$ grows \"not faster than\" $g$. In practice you can also meet $f(x)=\\mathcal{O}(g(x))$\n",
    "\n",
    "![](https://upload.wikimedia.org/wikipedia/commons/8/89/Big-O-notation.png)\n",
    "\n",
    "Formally, this similarity is expressed in one of following ways:\n",
    "\n",
    "$\\huge f(x)\\in\\mathcal{O}(g(x)) \\stackrel{\\text{def}}{\\equiv} \\exists (C>0), U : \\forall (x \\in U) \\; |f(x)| \\leq C|g(x)| $\n",
    "\n",
    "$U$ is a **deleted neighbourhood** for some $x_0$. If we set $x_0 = \\infty$, we will get more intuituve definition (for CS).\n",
    "\n",
    "$\\huge f(x)\\in\\mathcal{O}(g(x)) \\stackrel{\\text{def}}{\\equiv} \\exists (C>0), x_0 : \\forall (x > x_0) \\; |f(x)| \\leq C|g(x)|$\n",
    "\n",
    "We say $f$ growth is bounded/limited by $g$. $g$ is called **upper bound** for $f$.\n",
    "\n",
    "There is a friend of $\\mathcal{O}$ called $\\Omega$.\n",
    "\n",
    "$\\huge f(x)\\in\\Omega(g(x)) \\stackrel{\\text{def}}{\\equiv} \\exists (C>0), x_0 : \\forall (x > x_0) \\; C|g(x)| \\leq |f(x)|$\n",
    "\n",
    "Here $g$ becomes a lower bound for $f$."
   ]
  },
  {
   "cell_type": "markdown",
   "metadata": {},
   "source": [
    "## Prove that $f(x)\\in\\mathcal{O}(g(x)) \\implies g(x) \\in \\Omega(f(x))$\n",
    "By definition:\n",
    "\n",
    "$\\large \\exists (C>0), x_0 : \\forall (x > x_0) \\; |f(x)| \\leq C|g(x)|$\n",
    "\n",
    "...\n"
   ]
  },
  {
   "cell_type": "markdown",
   "metadata": {},
   "source": [
    "## Big O magic\n",
    "### Equivalence\n",
    "\n",
    "$\\large f(x)\\in O(g(x))\\land f(x)\\in\\Omega(g(x)) \\stackrel{def}{\\equiv} f(x)\\in\\Theta(g(x))$\n",
    "\n",
    "### Transitivity\n",
    "\n",
    "${\\displaystyle {\\begin{matrix}f(n)=\\Theta (g(n))\\land g(n)=\\Theta (h(n))&\\implies &f(n)=\\Theta (h(n))\\\\f(n)=O(g(n))\\land g(n)=O(h(n))&\\implies &f(n)=O(h(n))\\\\f(n)=\\Omega (g(n))\\land g(n)=\\Omega (h(n))&\\implies &f(n)=\\Omega (h(n))\\end{matrix}}}$\n",
    "\n",
    "### Domination\n",
    "\n",
    "![](https://miro.medium.com/max/1760/1*Z7wUbhuon-7y2yJkWHXY3Q.png)\n",
    "\n",
    "Considering that:\n",
    "$x\\in O(x), x\\in O(x^2), x^2\\in O(x^2), x^2\\in O(e^x), ...$\n",
    "\n",
    "in general:\n",
    "\n",
    "$O(x) \\subset O(x^2) \\subset O(e^x)$\n",
    "\n",
    "We can state, that:\n",
    "\n",
    "$x^3 + x^2 \\in O(x^3)$\n",
    "\n",
    "because\n",
    "\n",
    "$ x^2 < x^3 \\implies x^2 \\in O(x^3)$"
   ]
  },
  {
   "cell_type": "markdown",
   "metadata": {},
   "source": [
    "### Estimate complexity of all following functions using O(n) notation"
   ]
  },
  {
   "cell_type": "code",
   "execution_count": 1,
   "metadata": {},
   "outputs": [],
   "source": [
    "def a(x):\n",
    "    s = 0                          #\n",
    "    for i in range(x):             #\n",
    "        s += i                     #\n",
    "    return s                       #\n",
    "\n",
    "def b(x):\n",
    "    s = 0                          #\n",
    "    for i in range(x):             #\n",
    "        for j in range(i):         #\n",
    "            s += i * j             #\n",
    "    return s                       #\n",
    "    \n",
    "def c(x):\n",
    "    return a(x) + b(x)             #\n",
    "\n",
    "def d(x):\n",
    "    return a(x) * b(x)             #\n",
    "\n",
    "def e(x):\n",
    "    return a(b(x))                 #\n",
    "\n",
    "def f(x):\n",
    "    return f(x) * b(x)             #\n",
    "\n",
    "def g(x):\n",
    "    if x > 0:                      #\n",
    "        return f(x-1) * a(x)       #\n",
    "    else:                          #\n",
    "        return 1                   #"
   ]
  },
  {
   "cell_type": "markdown",
   "metadata": {},
   "source": [
    "### Interesting case"
   ]
  },
  {
   "cell_type": "code",
   "execution_count": 9,
   "metadata": {},
   "outputs": [
    {
     "data": {
      "text/plain": [
       "[1, 2, 3, 3, 3, 4]"
      ]
     },
     "execution_count": 9,
     "metadata": {},
     "output_type": "execute_result"
    }
   ],
   "source": [
    "def csort(A):\n",
    "    mina = min(A)                    #\n",
    "    k = max(A) - mina + 1            #\n",
    "    C = [0] * k                      #\n",
    "    \n",
    "    for a in A:                      #\n",
    "        C[a - mina] += 1             #\n",
    "    b = 0                            #\n",
    "    for j, c in enumerate(C):        #\n",
    "        for i in range(c):           #\n",
    "            A[b] = j + mina          #\n",
    "            b += 1                   #\n",
    "    return A                         #\n",
    "\n",
    "\n",
    "csort([4, 3, 3, 3, 2, 1])"
   ]
  },
  {
   "cell_type": "markdown",
   "metadata": {},
   "source": [
    "### (*) More complicated case ###\n",
    "\n",
    "$\\pi(x)$ - how many prime numbers that are less or equal to $x$.\n",
    "\n",
    "$\\pi(x) = li(x) + O(\\sqrt{x}*ln(x))$, where $li(x) = \\int_0^x\\frac{dt}{ln(t)}$\n",
    "\n",
    "For large $x$ function $\\pi(x)$ is close to $\\frac{x}{ln(x)}$: $\\lim_{x\\rightarrow+\\infty}\\frac{\\pi(x)}{x/ln(x)}=1$."
   ]
  },
  {
   "cell_type": "code",
   "execution_count": 6,
   "metadata": {},
   "outputs": [
    {
     "name": "stdout",
     "output_type": "stream",
     "text": [
      "[2, 3, 5, 7, 11, 13, 17, 19]\n"
     ]
    }
   ],
   "source": [
    "def primes(n):\n",
    "    lst = [2]                              #  \n",
    "    for i in range(3, n + 1, 2):           #  \n",
    "        if (i > 10) and (i % 10 == 5):     #  \n",
    "            continue                       #  \n",
    "        for j in lst:                      #  \n",
    "            if j * j-1 > i:                #  \n",
    "                lst.append(i)              #  \n",
    "                break                      #  \n",
    "            if (i % j == 0):               #  \n",
    "                break                      #  \n",
    "        else:                              #  \n",
    "            lst.append(i)                  #  \n",
    "    return lst                             #  \n",
    "\n",
    "print(primes(20))"
   ]
  },
  {
   "cell_type": "markdown",
   "metadata": {},
   "source": [
    "## Amortized analysis\n",
    "\n",
    "Sometimes worst case is too bad. E.g. `append(x)` method sometime takes too much time."
   ]
  },
  {
   "cell_type": "code",
   "execution_count": 19,
   "metadata": {},
   "outputs": [
    {
     "data": {
      "image/png": "[encoded data removed]",
      "text/plain": [
       "<matplotlib.figure.Figure at 0x2b186846080>"
      ]
     },
     "metadata": {},
     "output_type": "display_data"
    }
   ],
   "source": [
    "import time \n",
    "import matplotlib.pyplot as plt\n",
    "\n",
    "class L:\n",
    "    def __init__(self, capacity=16):\n",
    "        self.data = [0] * capacity\n",
    "        self.size = 0\n",
    "    \n",
    "    def append(self, x):\n",
    "        s = time.perf_counter()\n",
    "        if self.size == len(self.data):             #\n",
    "            d = [0] * self.size * 2                 #\n",
    "            for i, v in enumerate(self.data):       #\n",
    "                d[i] = v                            #\n",
    "            self.data = d                           #\n",
    "        self.data[self.size] = x                    #\n",
    "        self.size += 1                              #\n",
    "        f = time.perf_counter()                     #\n",
    "        return f - s                                #\n",
    "\n",
    "t = []\n",
    "l = L()\n",
    "for i in range(2 ** 16 + 1):\n",
    "    t.append(l.append(t))\n",
    "\n",
    "plt.plot(t)\n",
    "plt.show()"
   ]
  },
  {
   "cell_type": "markdown",
   "metadata": {},
   "source": [
    "Yes, single insertion can lead to linear complexity, but for any **N sequential operations** we will need linear time in total too. Thus, **amortized compexity** on N insertions will be $O_A(1)$ per operation. How to show it? There few methods:\n",
    "\n",
    "### Aggegate analysis\n",
    "\n",
    "$\\large T(N) = \\sum_{i=1}^{N}1+\\sum_{i=4}^{\\lfloor log(N)\\rfloor}2^i=N + (16 + 32 + 64 + ... + 2^{\\lfloor log(N)\\rfloor})=$\n",
    "\n",
    "\n",
    "$\\large N + 16 * (2^{\\lfloor log(N)\\rfloor - 3} - 1) / (2 - 1)= N + 16 * 2^{\\lfloor log(N)\\rfloor - 3} - 48 = $\n",
    "\n",
    "\n",
    "$\\large N + 2 * 2^{\\lfloor log(N)\\rfloor} - 48 \\leq N + 2 * 2^{log(N)} - 48 = N + 2N - 48 = 3N-48\\in\\mathcal{O}(N)$\n",
    "\n",
    "\n",
    "$\\large T_A(N) = \\frac{T(N)}{N} \\in\\mathcal{O}_A(1)$\n",
    "\n",
    "### Accounting method\n",
    "\n",
    "For each insertion with no resize we will pay \"2 coins\". One per operation, one as a fund for credit for future operation. When resize comes, it takes N coins from as credit. We just need to be sure balance is positive, and max balance represents upper bound.\n",
    "\n",
    "\n",
    "## Problem\n",
    "\n",
    "What is the amortized cost for such a summator?"
   ]
  },
  {
   "cell_type": "code",
   "execution_count": 41,
   "metadata": {},
   "outputs": [
    {
     "name": "stdout",
     "output_type": "stream",
     "text": [
      "1\n",
      "1000\n"
     ]
    }
   ],
   "source": [
    "def increment(number):\n",
    "    if number == \"\":\n",
    "        return '1'\n",
    "    \n",
    "    if number[-1] < '9':\n",
    "        return number[:-1] + str(int(number[-1]) + 1)\n",
    "    else:\n",
    "        return increment(number[:-1]) + '0'\n",
    "    \n",
    "print(increment('0'))\n",
    "print(increment('999'))\n"
   ]
  },
  {
   "cell_type": "markdown",
   "metadata": {},
   "source": [
    "## P = NP\n",
    "\n",
    "![](https://imgs.xkcd.com/comics/np_complete.png)\n",
    "\n",
    "### Consider this picture\n",
    "\n",
    "![](https://upload.wikimedia.org/wikipedia/commons/thumb/a/a0/P_np_np-complete_np-hard.svg/1920px-P_np_np-complete_np-hard.svg.png)\n",
    "\n",
    "\n",
    "**P (deterministic polynomial time)** - it contains all decision problems that can be solved by a deterministic Turing machine using a polynomial amount of computation time, or polynomial time.\n",
    "\n",
    "**NP (nondeterministic polynomial time)** - is the set of decision problems for which the problem instances, where the answer is \"yes\", have proofs verifiable in *polynomial time by a deterministic Turing machine*. OR problems solvable in polynomial time by a non-deterministic Turing machine (can go in both `if` branches).\n",
    "- Travelling salesman (determine if there is a route visiting all cities with total distance less than *k*)\n",
    "- The boolean satisfiability problem (SAT)\n",
    "\n",
    "**NP-complete** - some yes/no problem, which we can get in polynomial task from any NP problem. Some basic problems of NP that is easy to analyse: [Karp's list](https://en.wikipedia.org/wiki/Karp%27s_21_NP-complete_problems)\n",
    "\n",
    "**NP-hard** - at least as hard as the hardest problems in NP. Hanoi towers are NPH, but not NP."
   ]
  }
 ],
 "metadata": {
  "kernelspec": {
   "display_name": "Python 3",
   "language": "python",
   "name": "python3"
  },
  "language_info": {
   "codemirror_mode": {
    "name": "ipython",
    "version": 3
   },
   "file_extension": ".py",
   "mimetype": "text/x-python",
   "name": "python",
   "nbconvert_exporter": "python",
   "pygments_lexer": "ipython3",
   "version": "3.7.4"
  }
 },
 "nbformat": 4,
 "nbformat_minor": 4
}
