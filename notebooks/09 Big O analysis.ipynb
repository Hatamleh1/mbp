{
 "cells": [
  {
   "cell_type": "markdown",
   "metadata": {},
   "source": [
    "# Big O notation\n",
    "\n",
    "![](https://imgs.xkcd.com/comics/travelling_salesman_problem.png)\n",
    "\n",
    "Is there difference between $T_1(N) = N^2 + 800$ and $T_2(N) = 12 * N^2 + 10*N - 4$?\n",
    "\n",
    "What if I say that computer running $T_2$ is 20 times faster?"
   ]
  },
  {
   "cell_type": "markdown",
   "metadata": {},
   "source": [
    "## Big O and Omega\n",
    "<span style=\"color:red\">Informally</span>, $\\mathcal{O}(g(x))$ is a set of functions, which are similar in **growth speed**. We write $f(x)\\in\\mathcal{O}(g(x))$ if $f$ grows \"not faster than\" $g$. In practice you can also meet $f(x)=\\mathcal{O}(g(x))$\n",
    "\n",
    "![](https://upload.wikimedia.org/wikipedia/commons/8/89/Big-O-notation.png)\n",
    "\n",
    "Formally, this similarity is expressed in one of following ways:\n",
    "\n",
    "$\\huge f(x)\\in\\mathcal{O}(g(x)) \\stackrel{\\text{def}}{\\equiv} \\exists (C>0), U : \\forall (x \\in U) \\; |f(x)| \\leq C|g(x)| $\n",
    "\n",
    "$U$ is a **deleted neighbourhood** for some $x_0$. If we set $x_0 = \\infty$, we will get more intuituve definition (for CS).\n",
    "\n",
    "$\\huge f(x)\\in\\mathcal{O}(g(x)) \\stackrel{\\text{def}}{\\equiv} \\exists (C>0), x_0 : \\forall (x > x_0) \\; |f(x)| \\leq C|g(x)|$\n",
    "\n",
    "We say $f$ growth is bounded/limited by $g$. $g$ is called **upper bound** for $f$.\n",
    "\n",
    "There is a friend of $\\mathcal{O}$ called $\\Omega$.\n",
    "\n",
    "$\\huge f(x)\\in\\Omega(g(x)) \\stackrel{\\text{def}}{\\equiv} \\exists (C>0), x_0 : \\forall (x > x_0) \\; C|g(x)| \\leq |f(x)|$\n",
    "\n",
    "Here $g$ becomes a lower bound for $f$."
   ]
  },
  {
   "cell_type": "markdown",
   "metadata": {},
   "source": [
    "## Prove that $f(x)\\in\\mathcal{O}(g(x)) \\implies g(x) \\in \\Omega(f(x))$\n",
    "By definition:\n",
    "\n",
    "$\\large \\exists (C>0), x_0 : \\forall (x > x_0) \\; |f(x)| \\leq C|g(x)|$\n",
    "\n",
    "...\n"
   ]
  },
  {
   "cell_type": "markdown",
   "metadata": {},
   "source": [
    "## Big O magic\n",
    "### Equivalence\n",
    "\n",
    "$\\large f(x)\\in O(g(x))\\land f(x)\\in\\Omega(g(x)) \\stackrel{def}{\\equiv} f(x)\\in\\Theta(g(x))$\n",
    "\n",
    "### Transitivity\n",
    "\n",
    "${\\displaystyle {\\begin{matrix}f(n)=\\Theta (g(n))\\land g(n)=\\Theta (h(n))&\\implies &f(n)=\\Theta (h(n))\\\\f(n)=O(g(n))\\land g(n)=O(h(n))&\\implies &f(n)=O(h(n))\\\\f(n)=\\Omega (g(n))\\land g(n)=\\Omega (h(n))&\\implies &f(n)=\\Omega (h(n))\\end{matrix}}}$\n",
    "\n",
    "### Domination\n",
    "Considering that:\n",
    "$x\\in O(x), x\\in O(x^2), x^2\\in O(x^2), x^2\\in O(e^x), ...$\n",
    "\n",
    "in general:\n",
    "\n",
    "$O(x) \\subset O(x^2) \\subset O(e^x)$\n",
    "\n",
    "We can state, that:\n",
    "\n",
    "$x^3 + x^2 \\in O(x^3)$\n",
    "\n",
    "because\n",
    "\n",
    "$ x^2 < x^3 \\implies x^2 \\in O(x^3)$"
   ]
  }
 ],
 "metadata": {
  "kernelspec": {
   "display_name": "Python 3",
   "language": "python",
   "name": "python3"
  },
  "language_info": {
   "codemirror_mode": {
    "name": "ipython",
    "version": 3
   },
   "file_extension": ".py",
   "mimetype": "text/x-python",
   "name": "python",
   "nbconvert_exporter": "python",
   "pygments_lexer": "ipython3",
   "version": "3.7.4"
  }
 },
 "nbformat": 4,
 "nbformat_minor": 4
}
