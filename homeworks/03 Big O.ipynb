{
 "cells": [
  {
   "cell_type": "markdown",
   "metadata": {},
   "source": [
    "# Task 1\n",
    "\n",
    "Estimate time complexity of the function using RAM model method. Your comments to code are welcome. Final result is expected in $\\LaTeX$ format. Prove your result with an experiment: plot time graph for different input sizes."
   ]
  },
  {
   "cell_type": "code",
   "execution_count": 4,
   "metadata": {},
   "outputs": [],
   "source": [
    "# estimation\n",
    "\n",
    "def alg(A):                                   # let len(A) be N\n",
    "    index = len(A) - 1                        #\n",
    "    while index >= 0:                         #\n",
    "        for j in range(index):                #\n",
    "            if A[j] > A[j+1]:                 #\n",
    "                A[j], A[j+1] = A[j+1], A[j]   #\n",
    "        index -= 1                            #\n",
    "    return A                                  #\n"
   ]
  },
  {
   "cell_type": "markdown",
   "metadata": {},
   "source": [
    "## Result\n",
    "\n",
    "$\\large T(N) = ...$"
   ]
  },
  {
   "cell_type": "code",
   "execution_count": 10,
   "metadata": {},
   "outputs": [],
   "source": [
    "# experiment\n",
    "import random \n",
    "\n",
    "sizes = [100, 1000, 2000, 5000, 7000, 10000]\n",
    "\n",
    "for s in sizes:\n",
    "    data = list(range(s))\n",
    "    random.shuffle(data)\n",
    "\n",
    "    # complete the code for experiment\n",
    "    \n",
    "    "
   ]
  },
  {
   "cell_type": "markdown",
   "metadata": {},
   "source": [
    "# Task 2\n",
    "\n",
    "Prove the fact \n",
    "\n",
    "$\\large \\color{red}{\\sqrt{x} \\in \\Omega(\\log_{2}x)}$\n",
    "\n",
    "that using the definition:\n",
    "\n",
    "$f(x)\\in\\Omega(g(x)) \\stackrel{\\text{def}}{\\equiv} \\exists (C>0), x_0 : \\forall (x > x_0) \\; C|g(x)| \\leq |f(x)|$\n",
    "\n",
    "Use any proof method: direct proof, induction, ..."
   ]
  },
  {
   "cell_type": "markdown",
   "metadata": {},
   "source": [
    "## Your proof is here\n",
    "\n",
    "$\\sqrt{x}..$ "
   ]
  }
 ],
 "metadata": {
  "kernelspec": {
   "display_name": "Python 3",
   "language": "python",
   "name": "python3"
  },
  "language_info": {
   "codemirror_mode": {
    "name": "ipython",
    "version": 3
   },
   "file_extension": ".py",
   "mimetype": "text/x-python",
   "name": "python",
   "nbconvert_exporter": "python",
   "pygments_lexer": "ipython3",
   "version": "3.7.4"
  }
 },
 "nbformat": 4,
 "nbformat_minor": 4
}
