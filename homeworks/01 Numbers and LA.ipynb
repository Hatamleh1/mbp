{
 "cells": [
  {
   "cell_type": "markdown",
   "metadata": {},
   "source": [
    "# Task 1\n",
    "\n",
    "You know how numbers are represented in fixed form. Use any method to obtain binary representation for each of these numbers in both 32-bit and 64 bit form according to [standard](https://en.wikipedia.org/wiki/IEEE_754-2008_revision):\n",
    "- `-1`\n",
    "- `-1024`\n",
    "- `10e20`\n",
    "- `127.‭0009765625‬`\n",
    "\n",
    "Write your solution in a blocks below. Validate with tests."
   ]
  },
  {
   "cell_type": "code",
   "execution_count": null,
   "metadata": {},
   "outputs": [],
   "source": [
    "# write your solution here in any form, as formulas of code\n",
    "#\n",
    "#\n",
    "#\n",
    "#"
   ]
  },
  {
   "cell_type": "code",
   "execution_count": null,
   "metadata": {},
   "outputs": [],
   "source": [
    "# run the tests to validate your computations\n",
    "o32 = 0b00000000000000000000000000000000  # 0\n",
    "o64 = 0b0000000000000000000000000000000000000000000000000000000000000000 # 0\n",
    "\n",
    "a32 = 0b1_01111111_00000000000000000000000  # -1\n",
    "#### EVERYTHING below will fail\n",
    "a64 = 0b0000000000000000000000000000000000000000000000000000000000000000 # -1\n",
    "\n",
    "b32 = 0b00000000000000000000000000000000  # -1024\n",
    "b64 = 0b0000000000000000000000000000000000000000000000000000000000000000 # -1024\n",
    "\n",
    "c32 = 0b00000000000000000000000000000000  # 10e20\n",
    "c64 = 0b0000000000000000000000000000000000000000000000000000000000000000 # 10e20\n",
    "\n",
    "d32 = 0b00000000000000000000000000000000  # 127.‭0009765625\n",
    "d64 = 0b0000000000000000000000000000000000000000000000000000000000000000 # 127.‭0009765625\n",
    "\n",
    "import ctypes\n",
    "from ctypes import c_double, c_float, c_uint32, c_uint64\n",
    "\n",
    "def bits_to_cfloat(bits, base=32):\n",
    "    i = c_uint32(bits) if base == 32 else c_uint64(bits)\n",
    "    return ctypes.cast(\n",
    "        ctypes.addressof(i), \n",
    "        ctypes.POINTER(c_float if base == 32 else c_double))[0]  #\n",
    "\n",
    "assert 0.0 == bits_to_cfloat(o32, 32), \"0 test 32\"\n",
    "assert 0.0 == bits_to_cfloat(o32, 64), \"0 test 64\"\n",
    "\n",
    "assert -1 == bits_to_cfloat(a32, 32), \"-1 test 32\"\n",
    "assert -1 == bits_to_cfloat(a64, 64), \"-1 test 64\"\n",
    "\n",
    "assert -1024 == bits_to_cfloat(a32, 32), \"-1024 test 32\"\n",
    "assert -1024 == bits_to_cfloat(a64, 64), \"-1024 test 64\"\n",
    "\n",
    "assert 10.0e20 == bits_to_cfloat(c32, 32), \"10e20 test 32\"\n",
    "assert 10.0e20 == bits_to_cfloat(c64, 64), \"10e20 test 64\"\n",
    "\n",
    "f = 127.0009765625\n",
    "assert f == bits_to_cfloat(d32, 32), \"f test 32\"\n",
    "assert f == bits_to_cfloat(d64, 64), \"f test 64\""
   ]
  },
  {
   "cell_type": "markdown",
   "metadata": {},
   "source": [
    "# Task 2\n",
    "\n",
    "Consider a set of values:\n",
    "$x\\in \\{\\frac{1}{2^{32}}, \\frac{1}{2^{31}}, ..., 1, 2^{1}, 2^{2}, ..., 2^{32}\\}$ \n",
    "This set oubiuously sums to ${2^{33}}-2^{-32}$"
   ]
  },
  {
   "cell_type": "code",
   "execution_count": 48,
   "metadata": {},
   "outputs": [
    {
     "name": "stdout",
     "output_type": "stream",
     "text": [
      "8589934592.00000000000\n"
     ]
    }
   ],
   "source": [
    "print(f\"{2 ** 33 - 2 ** (-32):.11f}\")"
   ]
  },
  {
   "cell_type": "markdown",
   "metadata": {},
   "source": [
    "But look!"
   ]
  },
  {
   "cell_type": "code",
   "execution_count": 89,
   "metadata": {},
   "outputs": [
    {
     "name": "stdout",
     "output_type": "stream",
     "text": [
      "8589934592.0\n",
      "8589934591.9999990463\n"
     ]
    }
   ],
   "source": [
    "from random import shuffle\n",
    "\n",
    "X = [2 ** i for i in range(-32, 33)]\n",
    "\n",
    "print(sum(X))\n",
    "shuffle(X)\n",
    "print(f\"{sum(X):.10f}\")"
   ]
  },
  {
   "cell_type": "markdown",
   "metadata": {},
   "source": [
    "Implement your own `mysum()` function which always give the same result for a shuffled version of a list:"
   ]
  },
  {
   "cell_type": "code",
   "execution_count": null,
   "metadata": {},
   "outputs": [],
   "source": [
    "def mysum(A):\n",
    "    # TODO write your code here\n",
    "    return sum(A)\n",
    "\n",
    "X = [2 ** i for i in range(-32, 33)]\n",
    "S = []\n",
    "for i in range(100):\n",
    "    shuffle(X)\n",
    "    S.append(mysum(X))  \n",
    "\n",
    "for i in range(99):\n",
    "    assert S[i] == S[i + 1], \"Validation failed\""
   ]
  },
  {
   "cell_type": "markdown",
   "metadata": {},
   "source": [
    "# Task 3\n",
    "\n",
    "Small caterpillar $\\vec{x}$ is very stupid. So, it can only move according to an evolution matrix $A$.\n",
    "\n",
    "$\\vec{x}_{tomorrow} = A\\times\\vec{x}_{today}$\n",
    "\n",
    "One day it started from $[1, 0]^T$ and in 32 days occured in $[16.17409135, -13.57167409]^T$.\n",
    "\n",
    "One day it started from $[0, 1]^T$ and in 32 days occured in $[13.57167409, 16.17409135]^T$.\n",
    "\n",
    "1. Restore $A$.\n",
    "  - If you need to solve $A\\times A = B$ for $A$, use `scipy.linalg.sqrtm` [link](https://docs.scipy.org/doc/scipy-0.13.0/reference/generated/scipy.linalg.sqrtm.html)\n",
    "  - Your solution will, most probably, involve complex numbers. To keep real part you can use `np.real(A)` [link](https://docs.scipy.org/doc/numpy/reference/generated/numpy.real.html).\n",
    "2. Plot the path of a caterpillar in 2D."
   ]
  },
  {
   "cell_type": "code",
   "execution_count": 138,
   "metadata": {},
   "outputs": [
    {
     "name": "stdout",
     "output_type": "stream",
     "text": [
      "[[ 5.71938767]\n",
      " [-9.06949818]]\n"
     ]
    },
    {
     "data": {
      "image/png": "[encoded data removed]",
      "text/plain": [
       "<Figure size 432x288 with 1 Axes>"
      ]
     },
     "metadata": {
      "needs_background": "light"
     },
     "output_type": "display_data"
    }
   ],
   "source": [
    "import numpy as np\n",
    "import math\n",
    "import matplotlib.pyplot as plt\n",
    "import scipy\n",
    "import scipy.linalg\n",
    "\n",
    "x0 = np.matrix([[1., 0.]]).T\n",
    "x1 = np.matrix([[0., 1.]]).T\n",
    "\n",
    "# this is a wrong matrix!!! Find your own!\n",
    "A = np.matrix([[1.2, 0.1], [-0.7, 0.6]])\n",
    "\n",
    "for i in range(32):\n",
    "    x0 = A * x0\n",
    "    x1 = A * x1\n",
    "    plt.scatter(x0[0, 0], x0[1, 0])\n",
    "    plt.scatter(x1[0, 0], x1[1, 0])\n",
    "\n",
    "print(x0)\n",
    "plt.show()\n",
    "\n",
    "Dest = np.matrix([[16.17409135, -13.57167409], \n",
    "                  [13.57167409, 16.17409135]]).T"
   ]
  }
 ],
 "metadata": {
  "kernelspec": {
   "display_name": "Python 3",
   "language": "python",
   "name": "python3"
  },
  "language_info": {
   "codemirror_mode": {
    "name": "ipython",
    "version": 3
   },
   "file_extension": ".py",
   "mimetype": "text/x-python",
   "name": "python",
   "nbconvert_exporter": "python",
   "pygments_lexer": "ipython3",
   "version": "3.7.4"
  }
 },
 "nbformat": 4,
 "nbformat_minor": 4
}
